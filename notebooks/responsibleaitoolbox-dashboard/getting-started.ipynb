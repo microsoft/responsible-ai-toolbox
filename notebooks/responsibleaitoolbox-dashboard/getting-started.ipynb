{
 "cells": [
  {
   "cell_type": "markdown",
   "id": "aaf96116",
   "metadata": {},
   "source": [
    "# Getting Started"
   ]
  },
  {
   "cell_type": "markdown",
   "id": "0088f8b5",
   "metadata": {},
   "source": [
    "## Installation"
   ]
  },
  {
   "cell_type": "markdown",
   "id": "5bff11e6",
   "metadata": {},
   "source": [
    "Use the following `pip` commands to install the Responsible AI Toolbox."
   ]
  },
  {
   "cell_type": "code",
   "execution_count": null,
   "id": "48497813",
   "metadata": {},
   "outputs": [],
   "source": [
    "!pip install responsibleai\n",
    "!pip install raiwidgets"
   ]
  },
  {
   "cell_type": "markdown",
   "id": "613c46bc",
   "metadata": {},
   "source": [
    "## Dependencies"
   ]
  },
  {
   "cell_type": "markdown",
   "id": "a52fca92",
   "metadata": {},
   "source": [
    "!pip install --upgrade pandas"
   ]
  },
  {
   "cell_type": "markdown",
   "id": "5206c19e",
   "metadata": {},
   "source": [
    "## Overview & Setup"
   ]
  },
  {
   "cell_type": "markdown",
   "id": "96ccd4a2",
   "metadata": {},
   "source": [
    "Responsible AI Toolbox is an interoperable, customizable tool that empowers machine learning practitioners to evaluate their models and data based on their place in the model lifecycle.\n",
    "\n",
    "Users may select components whose functionality supports their current objectives. First, import the relevant objects."
   ]
  },
  {
   "cell_type": "code",
   "execution_count": null,
   "id": "498e59fd",
   "metadata": {},
   "outputs": [],
   "source": [
    "from raiwidgets import ModelAnalysisDashboard\n",
    "from responsibleai import ModelAnalysis"
   ]
  },
  {
   "cell_type": "markdown",
   "id": "3b679269",
   "metadata": {},
   "source": [
    "It is necessary to initialize a ModelAnalysis object upon which the different components can be loaded. `task_type` holds the string `'regression'` or `'classification'` depending on the developer's purpose."
   ]
  },
  {
   "cell_type": "code",
   "execution_count": null,
   "id": "4e1c574c",
   "metadata": {},
   "outputs": [],
   "source": [
    "model_analysis = ModelAnalysis(model, train_data, test_data, target_feature, task_type, \n",
    "                               categorical_features=['f1', 'f2', 'f3'])"
   ]
  },
  {
   "cell_type": "markdown",
   "id": "9b64a9d5",
   "metadata": {},
   "source": [
    "The Interpretability and Error Analysis components can be added to the dashboard without any additional arguments:"
   ]
  },
  {
   "cell_type": "code",
   "execution_count": null,
   "id": "9d722ba7",
   "metadata": {},
   "outputs": [],
   "source": [
    "model_analysis.explainer.add()\n",
    "model_analysis.error_analysis.add()"
   ]
  },
  {
   "cell_type": "markdown",
   "id": "59301444",
   "metadata": {},
   "source": [
    "The Causal Inferencing component must be added with a specification of the feature that would be changed as a treatment."
   ]
  },
  {
   "cell_type": "code",
   "execution_count": null,
   "id": "3caad47d",
   "metadata": {},
   "outputs": [],
   "source": [
    "model_analysis.causal.add(treatment_features=['f1', 'f2', 'f3'])"
   ]
  },
  {
   "cell_type": "markdown",
   "id": "2cd2d71b",
   "metadata": {},
   "source": [
    "The Counterfactuals component takes arguments specifying the number of counterfactuals to generate, the list of columns containing continuous values, and the desired label of the counterfactuals."
   ]
  },
  {
   "cell_type": "markdown",
   "id": "5097342b",
   "metadata": {},
   "source": [
    "In a classification situation, `desired_class` must specify the classification that the generated counterfactuals would fall into."
   ]
  },
  {
   "cell_type": "code",
   "execution_count": null,
   "id": "e2615df4",
   "metadata": {},
   "outputs": [],
   "source": [
    "model_analysis.counterfactual.add(total_CFs=20, desired_class='opposite', continuous_features=['f1', 'f2', 'f3'])"
   ]
  },
  {
   "cell_type": "markdown",
   "id": "7089bc96",
   "metadata": {},
   "source": [
    "In a regression situation, `desired_range` must specify the minimum and maximum label that the generated counterfactuals can have."
   ]
  },
  {
   "cell_type": "code",
   "execution_count": null,
   "id": "5f932308",
   "metadata": {},
   "outputs": [],
   "source": [
    "model_analysis.counterfactual.add(total_CFs=20, desired_range=[10, 20], continuous_features=['f1', 'f2', 'f3'])"
   ]
  },
  {
   "cell_type": "markdown",
   "id": "0afd20a7",
   "metadata": {},
   "source": [
    "## Computing and Visualizing Insights"
   ]
  },
  {
   "cell_type": "markdown",
   "id": "e9731602",
   "metadata": {},
   "source": [
    "After loading the components into the ModelAnalysis object, it is necessary to calculate values relevant to them, such as model metrics and counterfactuals."
   ]
  },
  {
   "cell_type": "code",
   "execution_count": null,
   "id": "73a905b7",
   "metadata": {},
   "outputs": [],
   "source": [
    "model_analysis.compute()"
   ]
  },
  {
   "cell_type": "markdown",
   "id": "ab3fb1bc",
   "metadata": {},
   "source": [
    "Once the values for each component have been computed, they can be displayed by loading the ModelAnalysis object into a ModelAnalysisDashboard."
   ]
  },
  {
   "cell_type": "code",
   "execution_count": null,
   "id": "95e172c9",
   "metadata": {},
   "outputs": [],
   "source": [
    "ModelAnalysisDashboard(model_analysis)"
   ]
  },
  {
   "cell_type": "markdown",
   "id": "1707444d",
   "metadata": {},
   "source": [
    "## Learn More"
   ]
  },
  {
   "cell_type": "markdown",
   "id": "16b4993a",
   "metadata": {},
   "source": [
    "Visit the [GitHub](https://github.com/microsoft/responsible-ai-widgets) of Responsible AI Toolbox for more details, and take this [dashboard tour](./responsibleaitoolbox-tour.ipynb) for an explanation of the different parts of each component."
   ]
  }
 ],
 "metadata": {
  "kernelspec": {
   "display_name": "Python 3",
   "language": "python",
   "name": "python3"
  },
  "language_info": {
   "codemirror_mode": {
    "name": "ipython",
    "version": 3
   },
   "file_extension": ".py",
   "mimetype": "text/x-python",
   "name": "python",
   "nbconvert_exporter": "python",
   "pygments_lexer": "ipython3",
   "version": "3.6.9"
  }
 },
 "nbformat": 4,
 "nbformat_minor": 5
}
