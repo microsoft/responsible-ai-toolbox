{
 "cells": [
  {
   "cell_type": "code",
   "execution_count": null,
   "metadata": {},
   "outputs": [],
   "source": [
    "import os\n",
    "import logging\n",
    "import pandas as pd\n",
    "import datasets\n",
    "from ml_wrappers.model import OpenaiWrapperModel\n",
    "from transformers import pipeline\n",
    "import numpy as np"
   ]
  },
  {
   "cell_type": "code",
   "execution_count": null,
   "metadata": {},
   "outputs": [],
   "source": [
    "def replace_error_chars(message:str):\n",
    "    message = message.replace('`', '')\n",
    "    return message"
   ]
  },
  {
   "cell_type": "code",
   "execution_count": null,
   "metadata": {},
   "outputs": [],
   "source": [
    "dataset = datasets.load_dataset(\"squad\", split=\"train\")\n",
    "dataset"
   ]
  },
  {
   "cell_type": "code",
   "execution_count": null,
   "metadata": {},
   "outputs": [],
   "source": [
    "questions = []\n",
    "context = []\n",
    "answers = []\n",
    "prompts = []\n",
    "template = 'Answer the question given the context.\\n\\ncontext:\\n{context}\\n\\nquestion:\\n{question}'\n",
    "for row in dataset:\n",
    "    context.append(row['context'])\n",
    "    questions.append(row['question'])\n",
    "    answers.append(replace_error_chars(row['answers']['text'][0]))\n",
    "    templated_prompt = template.format(context=row['context'], question=row['question'])\n",
    "    prompts.append(templated_prompt)"
   ]
  },
  {
   "cell_type": "code",
   "execution_count": null,
   "metadata": {},
   "outputs": [],
   "source": [
    "data = pd.DataFrame({\n",
    "    'context': context,\n",
    "    'questions': questions,\n",
    "    # 'answers': answers,\n",
    "    'prompt' : prompts})\n",
    "test_data = data[:3]\n",
    "data.head()"
   ]
  },
  {
   "cell_type": "code",
   "execution_count": null,
   "metadata": {},
   "outputs": [],
   "source": [
    "class template(object):\n",
    "    def __init__(self, model):\n",
    "        self.model = model\n",
    "\n",
    "    def predict(self, dataset):\n",
    "        dummy = 'This is a dummy answer'\n",
    "        return np.array([dummy for _ in range(len(dataset))])\n",
    "        # template = 'Answer the question given the context.'\n",
    "        # for i, (context, question) in enumerate(zip(dataset['context'], dataset['questions'])):\n",
    "        #     templated_question = template + '\\n\\ncontext: ' + context + '\\nquestion: ' + question\n",
    "        #     if isinstance(dataset, pd.DataFrame):\n",
    "        #         dataset.iloc[i]['questions'] = templated_question\n",
    "        #     else:\n",
    "        #         dataset['questions'] = templated_question\n",
    "        # return self.model.predict(dataset)"
   ]
  },
  {
   "cell_type": "markdown",
   "metadata": {},
   "source": [
    "# Model and Evaluator"
   ]
  },
  {
   "cell_type": "code",
   "execution_count": null,
   "metadata": {},
   "outputs": [],
   "source": [
    "openai_model = OpenaiWrapperModel(\n",
    "    os.getenv('OPENAI_API_TYPE'),\n",
    "    os.getenv('OPENAI_API_ENDPOINT'),\n",
    "    os.getenv('OPENAI_API_VERSION'),\n",
    "    os.getenv('OPENAI_API_KEY'),\n",
    "    engine='gpt-4')\n",
    "\n",
    "pipeline_model = template(openai_model)"
   ]
  },
  {
   "cell_type": "code",
   "execution_count": null,
   "metadata": {},
   "outputs": [],
   "source": [
    "eval_model = OpenaiWrapperModel(\n",
    "    os.getenv('OPENAI_API_TYPE'),\n",
    "    os.getenv('OPENAI_API_ENDPOINT'),\n",
    "    os.getenv('OPENAI_API_VERSION'),\n",
    "    os.getenv('OPENAI_API_KEY'),\n",
    "    engine='gpt-4')"
   ]
  },
  {
   "cell_type": "markdown",
   "metadata": {},
   "source": [
    "# RAI Insights"
   ]
  },
  {
   "cell_type": "code",
   "execution_count": null,
   "metadata": {},
   "outputs": [],
   "source": [
    "from responsibleai_text import RAITextInsights, ModelTask\n",
    "from raiwidgets import ResponsibleAIDashboard"
   ]
  },
  {
   "cell_type": "code",
   "execution_count": null,
   "metadata": {},
   "outputs": [],
   "source": [
    "test_data.head()"
   ]
  },
  {
   "cell_type": "code",
   "execution_count": null,
   "metadata": {},
   "outputs": [],
   "source": [
    "rai_insights = RAITextInsights(\n",
    "    pipeline_model, test_data, None,\n",
    "    task_type=ModelTask.GENERATIVE_TEXT)"
   ]
  },
  {
   "cell_type": "code",
   "execution_count": null,
   "metadata": {},
   "outputs": [],
   "source": [
    "# TODO: Remove this once the insights object is updated to handle this\n",
    "rai_insights.temp_questions = test_data['questions']\n",
    "rai_insights.temp_context = test_data['context']\n",
    "rai_insights.temp_eval_model = eval_model"
   ]
  },
  {
   "cell_type": "code",
   "execution_count": null,
   "metadata": {},
   "outputs": [],
   "source": [
    "rai_insights.error_analysis.add()\n",
    "# rai_insights.compute()"
   ]
  },
  {
   "cell_type": "code",
   "execution_count": null,
   "metadata": {},
   "outputs": [],
   "source": [
    "ResponsibleAIDashboard(rai_insights)"
   ]
  }
 ],
 "metadata": {
  "kernelspec": {
   "display_name": "Python 3 (ipykernel)",
   "language": "python",
   "name": "python3"
  },
  "language_info": {
   "codemirror_mode": {
    "name": "ipython",
    "version": 3
   },
   "file_extension": ".py",
   "mimetype": "text/x-python",
   "name": "python",
   "nbconvert_exporter": "python",
   "pygments_lexer": "ipython3",
   "version": "3.8.17"
  }
 },
 "nbformat": 4,
 "nbformat_minor": 4
}
