{
 "cells": [
  {
   "cell_type": "code",
   "execution_count": 41,
   "id": "73d012de",
   "metadata": {
    "scrolled": true
   },
   "outputs": [
    {
     "name": "stdout",
     "output_type": "stream",
     "text": [
      "Files already downloaded and verified\n"
     ]
    },
    {
     "name": "stderr",
     "output_type": "stream",
     "text": [
      "100%|██████████████████████████████████████████████████████████████████████████████| 2500/2500 [00:27<00:00, 91.45it/s]\n"
     ]
    }
   ],
   "source": [
    "import os\n",
    "import torch\n",
    "import torchvision\n",
    "import numpy as np\n",
    "import pandas as pd\n",
    "\n",
    "from PIL import Image\n",
    "from fastai.learner import load_learner\n",
    "from torchvision.transforms import ToTensor\n",
    "from responsibleai_vision.common.constants import ImageColumns\n",
    "from tqdm import tqdm\n",
    "\n",
    "BATCH_SIZE = 4\n",
    "DATASET_NAME = \"CIFAR\"\n",
    "\n",
    "dataset = torchvision.datasets.CIFAR10(root=\"data\", train=False, download=True, transform=ToTensor())\n",
    "dataloader = torch.utils.data.DataLoader(dataset, batch_size=BATCH_SIZE, shuffle=True, num_workers=2)\n",
    "\n",
    "data = pd.DataFrame(columns=[ImageColumns.IMAGE.value,\n",
    "                             ImageColumns.LABEL.value])\n",
    "\n",
    "cnts = {}\n",
    "data_path = \"data/\" + DATASET_NAME + \"/\" \n",
    "\n",
    "for batch in tqdm(dataloader):\n",
    "    images, labels = batch\n",
    "    for i in range(BATCH_SIZE):\n",
    "        img, label = images[i], labels[i]\n",
    "        label = str(label.numpy())\n",
    "        img = img.numpy()\n",
    "        img = np.transpose(img, (1, 2, 0))\n",
    "        img = Image.fromarray((img * 255).astype(np.uint8))\n",
    "        \n",
    "        if label not in cnts:\n",
    "            os.makedirs(data_path + label, exist_ok=True)\n",
    "            cnts[label] = 1\n",
    "        else:\n",
    "            cnts[label] += 1\n",
    "        \n",
    "        img_path = data_path + label + \"/class_\" + label + \"_img_\" + str(cnts[label]) + \".jpeg\"\n",
    "        img.save(img_path)\n",
    "        item = pd.DataFrame(data={ImageColumns.IMAGE.value: [img_path], \n",
    "                                  ImageColumns.LABEL.value: [label]})\n",
    "        data = pd.concat([data, item], ignore_index=True)\n",
    "        "
   ]
  },
  {
   "cell_type": "code",
   "execution_count": null,
   "id": "87572a47",
   "metadata": {},
   "outputs": [],
   "source": []
  }
 ],
 "metadata": {
  "kernelspec": {
   "display_name": "Python 3 (ipykernel)",
   "language": "python",
   "name": "python3"
  },
  "language_info": {
   "codemirror_mode": {
    "name": "ipython",
    "version": 3
   },
   "file_extension": ".py",
   "mimetype": "text/x-python",
   "name": "python",
   "nbconvert_exporter": "python",
   "pygments_lexer": "ipython3",
   "version": "3.8.18"
  }
 },
 "nbformat": 4,
 "nbformat_minor": 5
}
