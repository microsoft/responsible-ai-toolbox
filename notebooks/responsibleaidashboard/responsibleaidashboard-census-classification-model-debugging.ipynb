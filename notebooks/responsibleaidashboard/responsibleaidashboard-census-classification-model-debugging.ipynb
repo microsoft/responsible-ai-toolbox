{
  "cells": [
    {
      "cell_type": "markdown",
      "id": "restricted-republic",
      "metadata": {},
      "source": [
        "# Assess income level predictions on adult census data"
      ]
    },
    {
      "cell_type": "markdown",
      "id": "adolescent-fusion",
      "metadata": {},
      "source": [
        "This notebook demonstrates the use of the `responsibleai` API to assess a model trained on census data. It walks through the API calls necessary to create a widget with model analysis insights, then guides a visual analysis of the model."
      ]
    },
    {
      "cell_type": "markdown",
      "id": "exempt-cartoon",
      "metadata": {},
      "source": [
        "* [Launch Responsible AI Toolbox](#Launch-Responsible-AI-Toolbox)\n",
        "    * [Train a Model](#Train-a-Model)\n",
        "    * [Create Model and Data Insights](#Create-Model-and-Data-Insights)\n",
        "* [Assess Your Model](#Assess-Your-Model)\n",
        "    * [Aggregate Analysis](#Aggregate-Analysis)\n",
        "    * [Individual Analysis](#Individual-Analysis)"
      ]
    },
    {
      "cell_type": "markdown",
      "id": "continent-dream",
      "metadata": {},
      "source": [
        "## Launch Responsible AI Toolbox"
      ]
    },
    {
      "cell_type": "markdown",
      "id": "welsh-crisis",
      "metadata": {},
      "source": [
        "The following section examines the code necessary to create datasets and a model. It then generates insights using the `responsibleai` API that can be visually analyzed."
      ]
    },
    {
      "cell_type": "markdown",
      "id": "sophisticated-bryan",
      "metadata": {},
      "source": [
        "### Train a Model\n",
        "*The following section can be skipped. It loads a dataset and trains a model for illustrative purposes.*"
      ]
    },
    {
      "cell_type": "code",
      "execution_count": 1,
      "id": "indie-message",
      "metadata": {},
      "outputs": [],
      "source": [
        "import sklearn\n",
        "from typing import Any, Callable, Dict, List, Optional, Set, Tuple\n",
        "import zipfile\n",
        "\n",
        "from sklearn.pipeline import Pipeline\n",
        "from sklearn.impute import SimpleImputer\n",
        "from sklearn.preprocessing import StandardScaler, OneHotEncoder\n",
        "from sklearn.compose import ColumnTransformer\n",
        "from sklearn.model_selection import train_test_split\n",
        "\n",
        "import pandas as pd\n",
        "from lightgbm import LGBMClassifier"
      ]
    },
    {
      "cell_type": "markdown",
      "id": "clinical-henry",
      "metadata": {},
      "source": [
        "First, load the census dataset and specify the different types of features. Then, clean the target feature values to include only 0 and 1."
      ]
    },
    {
      "cell_type": "code",
      "execution_count": 2,
      "id": "resistant-consequence",
      "metadata": {},
      "outputs": [
        {
          "name": "stdout",
          "output_type": "stream",
          "text": [
            "['workclass', 'education', 'marital-status', 'occupation', 'relationship', 'race', 'gender', 'native-country']\n"
          ]
        }
      ],
      "source": [
        "from sklearn.pipeline import Pipeline\n",
        "from sklearn.impute import SimpleImputer\n",
        "from sklearn.preprocessing import StandardScaler, OneHotEncoder\n",
        "from sklearn.compose import ColumnTransformer\n",
        "\n",
        "def split_label(dataset, target_feature):\n",
        "    X = dataset.drop([target_feature], axis=1)\n",
        "    y = dataset[[target_feature]]\n",
        "    return X, y\n",
        "\n",
        "def clean_data(X, y, target_feature):\n",
        "    features = X.columns.values.tolist()\n",
        "    classes = y[target_feature].unique().tolist()\n",
        "    pipe_cfg = {\n",
        "        'num_cols': X.dtypes[X.dtypes == 'int64'].index.values.tolist(),\n",
        "        'cat_cols': X.dtypes[X.dtypes == 'object'].index.values.tolist(),\n",
        "    }\n",
        "    num_pipe = Pipeline([\n",
        "        ('num_imputer', SimpleImputer(strategy='median')),\n",
        "        ('num_scaler', StandardScaler())\n",
        "    ])\n",
        "    cat_pipe = Pipeline([\n",
        "        ('cat_imputer', SimpleImputer(strategy='constant', fill_value='?')),\n",
        "        ('cat_encoder', OneHotEncoder(handle_unknown='ignore', sparse=False))\n",
        "    ])\n",
        "    feat_pipe = ColumnTransformer([\n",
        "        ('num_pipe', num_pipe, pipe_cfg['num_cols']),\n",
        "        ('cat_pipe', cat_pipe, pipe_cfg['cat_cols'])\n",
        "    ])\n",
        "    X = feat_pipe.fit_transform(X)\n",
        "    print(pipe_cfg['cat_cols'])\n",
        "    return X, feat_pipe, features, classes\n",
        "\n",
        "outdirname = 'responsibleai.12.28.21'\n",
        "try:\n",
        "    from urllib import urlretrieve\n",
        "except ImportError:\n",
        "    from urllib.request import urlretrieve\n",
        "zipfilename = outdirname + '.zip'\n",
        "urlretrieve('https://publictestdatasets.blob.core.windows.net/data/' + zipfilename, zipfilename)\n",
        "with zipfile.ZipFile(zipfilename, 'r') as unzip:\n",
        "    unzip.extractall('.')\n",
        "\n",
        "target_feature = 'income'\n",
        "categorical_features = ['workclass', 'education', 'marital-status',\n",
        "                        'occupation', 'relationship', 'race', 'gender', 'native-country']\n",
        "\n",
        "\n",
        "train_data = pd.read_csv('adult-train.csv')\n",
        "test_data = pd.read_csv('adult-test.csv')\n",
        "\n",
        "\n",
        "X_train_original, y_train = split_label(train_data, target_feature)\n",
        "X_test_original, y_test = split_label(test_data, target_feature)\n",
        "\n",
        "\n",
        "X_train, feat_pipe, features, classes = clean_data(X_train_original, y_train, target_feature)\n",
        "y_train = y_train[target_feature].to_numpy()\n",
        "\n",
        "X_test = feat_pipe.transform(X_test_original)\n",
        "y_test = y_test[target_feature].to_numpy()\n",
        "\n",
        "train_data[target_feature] = y_train\n",
        "test_data[target_feature] = y_test\n",
        "\n",
        "test_data_sample = test_data.sample(n=500, random_state=5)\n",
        "train_data_sample = train_data.sample(n=8000, random_state=5)"
      ]
    },
    {
      "cell_type": "markdown",
      "id": "potential-proportion",
      "metadata": {},
      "source": [
        "Train a LightGBM classifier on the training data."
      ]
    },
    {
      "cell_type": "code",
      "execution_count": 3,
      "id": "biological-album",
      "metadata": {},
      "outputs": [],
      "source": [
        "clf = LGBMClassifier(n_estimators=5)\n",
        "model = clf.fit(X_train, y_train)"
      ]
    },
    {
      "cell_type": "code",
      "execution_count": 4,
      "id": "528d9d3f",
      "metadata": {},
      "outputs": [],
      "source": [
        "dashboard_pipeline = Pipeline(steps=[('preprocess', feat_pipe), ('model', model)])"
      ]
    },
    {
      "cell_type": "markdown",
      "id": "4cc69a45",
      "metadata": {},
      "source": [
        "## Visualize Data Balance Measures"
      ]
    },
    {
      "cell_type": "code",
      "execution_count": 5,
      "id": "cb91892b",
      "metadata": {},
      "outputs": [
        {
          "data": {
            "text/html": [
              "<div>\n",
              "<style scoped>\n",
              "    .dataframe tbody tr th:only-of-type {\n",
              "        vertical-align: middle;\n",
              "    }\n",
              "\n",
              "    .dataframe tbody tr th {\n",
              "        vertical-align: top;\n",
              "    }\n",
              "\n",
              "    .dataframe thead th {\n",
              "        text-align: right;\n",
              "    }\n",
              "</style>\n",
              "<table border=\"1\" class=\"dataframe\">\n",
              "  <thead>\n",
              "    <tr style=\"text-align: right;\">\n",
              "      <th></th>\n",
              "      <th>income</th>\n",
              "      <th>age</th>\n",
              "      <th>workclass</th>\n",
              "      <th>fnlwgt</th>\n",
              "      <th>education</th>\n",
              "      <th>education-num</th>\n",
              "      <th>marital-status</th>\n",
              "      <th>occupation</th>\n",
              "      <th>relationship</th>\n",
              "      <th>race</th>\n",
              "      <th>gender</th>\n",
              "      <th>capital-gain</th>\n",
              "      <th>capital-loss</th>\n",
              "      <th>hours-per-week</th>\n",
              "      <th>native-country</th>\n",
              "    </tr>\n",
              "  </thead>\n",
              "  <tbody>\n",
              "    <tr>\n",
              "      <th>0</th>\n",
              "      <td>&lt;=50K</td>\n",
              "      <td>39</td>\n",
              "      <td>State-gov</td>\n",
              "      <td>77516</td>\n",
              "      <td>Bachelors</td>\n",
              "      <td>13</td>\n",
              "      <td>Never-married</td>\n",
              "      <td>Adm-clerical</td>\n",
              "      <td>Not-in-family</td>\n",
              "      <td>White</td>\n",
              "      <td>Male</td>\n",
              "      <td>2174</td>\n",
              "      <td>0</td>\n",
              "      <td>40</td>\n",
              "      <td>United-States</td>\n",
              "    </tr>\n",
              "    <tr>\n",
              "      <th>1</th>\n",
              "      <td>&lt;=50K</td>\n",
              "      <td>50</td>\n",
              "      <td>Self-emp-not-inc</td>\n",
              "      <td>83311</td>\n",
              "      <td>Bachelors</td>\n",
              "      <td>13</td>\n",
              "      <td>Married-civ-spouse</td>\n",
              "      <td>Exec-managerial</td>\n",
              "      <td>Husband</td>\n",
              "      <td>White</td>\n",
              "      <td>Male</td>\n",
              "      <td>0</td>\n",
              "      <td>0</td>\n",
              "      <td>13</td>\n",
              "      <td>United-States</td>\n",
              "    </tr>\n",
              "    <tr>\n",
              "      <th>2</th>\n",
              "      <td>&lt;=50K</td>\n",
              "      <td>38</td>\n",
              "      <td>Private</td>\n",
              "      <td>215646</td>\n",
              "      <td>HS-grad</td>\n",
              "      <td>9</td>\n",
              "      <td>Divorced</td>\n",
              "      <td>Handlers-cleaners</td>\n",
              "      <td>Not-in-family</td>\n",
              "      <td>White</td>\n",
              "      <td>Male</td>\n",
              "      <td>0</td>\n",
              "      <td>0</td>\n",
              "      <td>40</td>\n",
              "      <td>United-States</td>\n",
              "    </tr>\n",
              "    <tr>\n",
              "      <th>3</th>\n",
              "      <td>&lt;=50K</td>\n",
              "      <td>53</td>\n",
              "      <td>Private</td>\n",
              "      <td>234721</td>\n",
              "      <td>11th</td>\n",
              "      <td>7</td>\n",
              "      <td>Married-civ-spouse</td>\n",
              "      <td>Handlers-cleaners</td>\n",
              "      <td>Husband</td>\n",
              "      <td>Black</td>\n",
              "      <td>Male</td>\n",
              "      <td>0</td>\n",
              "      <td>0</td>\n",
              "      <td>40</td>\n",
              "      <td>United-States</td>\n",
              "    </tr>\n",
              "    <tr>\n",
              "      <th>4</th>\n",
              "      <td>&lt;=50K</td>\n",
              "      <td>28</td>\n",
              "      <td>Private</td>\n",
              "      <td>338409</td>\n",
              "      <td>Bachelors</td>\n",
              "      <td>13</td>\n",
              "      <td>Married-civ-spouse</td>\n",
              "      <td>Prof-specialty</td>\n",
              "      <td>Wife</td>\n",
              "      <td>Black</td>\n",
              "      <td>Female</td>\n",
              "      <td>0</td>\n",
              "      <td>0</td>\n",
              "      <td>40</td>\n",
              "      <td>Cuba</td>\n",
              "    </tr>\n",
              "    <tr>\n",
              "      <th>...</th>\n",
              "      <td>...</td>\n",
              "      <td>...</td>\n",
              "      <td>...</td>\n",
              "      <td>...</td>\n",
              "      <td>...</td>\n",
              "      <td>...</td>\n",
              "      <td>...</td>\n",
              "      <td>...</td>\n",
              "      <td>...</td>\n",
              "      <td>...</td>\n",
              "      <td>...</td>\n",
              "      <td>...</td>\n",
              "      <td>...</td>\n",
              "      <td>...</td>\n",
              "      <td>...</td>\n",
              "    </tr>\n",
              "    <tr>\n",
              "      <th>32556</th>\n",
              "      <td>&lt;=50K</td>\n",
              "      <td>27</td>\n",
              "      <td>Private</td>\n",
              "      <td>257302</td>\n",
              "      <td>Assoc-acdm</td>\n",
              "      <td>12</td>\n",
              "      <td>Married-civ-spouse</td>\n",
              "      <td>Tech-support</td>\n",
              "      <td>Wife</td>\n",
              "      <td>White</td>\n",
              "      <td>Female</td>\n",
              "      <td>0</td>\n",
              "      <td>0</td>\n",
              "      <td>38</td>\n",
              "      <td>United-States</td>\n",
              "    </tr>\n",
              "    <tr>\n",
              "      <th>32557</th>\n",
              "      <td>&gt;50K</td>\n",
              "      <td>40</td>\n",
              "      <td>Private</td>\n",
              "      <td>154374</td>\n",
              "      <td>HS-grad</td>\n",
              "      <td>9</td>\n",
              "      <td>Married-civ-spouse</td>\n",
              "      <td>Machine-op-inspct</td>\n",
              "      <td>Husband</td>\n",
              "      <td>White</td>\n",
              "      <td>Male</td>\n",
              "      <td>0</td>\n",
              "      <td>0</td>\n",
              "      <td>40</td>\n",
              "      <td>United-States</td>\n",
              "    </tr>\n",
              "    <tr>\n",
              "      <th>32558</th>\n",
              "      <td>&lt;=50K</td>\n",
              "      <td>58</td>\n",
              "      <td>Private</td>\n",
              "      <td>151910</td>\n",
              "      <td>HS-grad</td>\n",
              "      <td>9</td>\n",
              "      <td>Widowed</td>\n",
              "      <td>Adm-clerical</td>\n",
              "      <td>Unmarried</td>\n",
              "      <td>White</td>\n",
              "      <td>Female</td>\n",
              "      <td>0</td>\n",
              "      <td>0</td>\n",
              "      <td>40</td>\n",
              "      <td>United-States</td>\n",
              "    </tr>\n",
              "    <tr>\n",
              "      <th>32559</th>\n",
              "      <td>&lt;=50K</td>\n",
              "      <td>22</td>\n",
              "      <td>Private</td>\n",
              "      <td>201490</td>\n",
              "      <td>HS-grad</td>\n",
              "      <td>9</td>\n",
              "      <td>Never-married</td>\n",
              "      <td>Adm-clerical</td>\n",
              "      <td>Own-child</td>\n",
              "      <td>White</td>\n",
              "      <td>Male</td>\n",
              "      <td>0</td>\n",
              "      <td>0</td>\n",
              "      <td>20</td>\n",
              "      <td>United-States</td>\n",
              "    </tr>\n",
              "    <tr>\n",
              "      <th>32560</th>\n",
              "      <td>&gt;50K</td>\n",
              "      <td>52</td>\n",
              "      <td>Self-emp-inc</td>\n",
              "      <td>287927</td>\n",
              "      <td>HS-grad</td>\n",
              "      <td>9</td>\n",
              "      <td>Married-civ-spouse</td>\n",
              "      <td>Exec-managerial</td>\n",
              "      <td>Wife</td>\n",
              "      <td>White</td>\n",
              "      <td>Female</td>\n",
              "      <td>15024</td>\n",
              "      <td>0</td>\n",
              "      <td>40</td>\n",
              "      <td>United-States</td>\n",
              "    </tr>\n",
              "  </tbody>\n",
              "</table>\n",
              "<p>32561 rows × 15 columns</p>\n",
              "</div>"
            ],
            "text/plain": [
              "      income  age          workclass  fnlwgt    education  education-num  \\\n",
              "0      <=50K   39          State-gov   77516    Bachelors             13   \n",
              "1      <=50K   50   Self-emp-not-inc   83311    Bachelors             13   \n",
              "2      <=50K   38            Private  215646      HS-grad              9   \n",
              "3      <=50K   53            Private  234721         11th              7   \n",
              "4      <=50K   28            Private  338409    Bachelors             13   \n",
              "...      ...  ...                ...     ...          ...            ...   \n",
              "32556  <=50K   27            Private  257302   Assoc-acdm             12   \n",
              "32557   >50K   40            Private  154374      HS-grad              9   \n",
              "32558  <=50K   58            Private  151910      HS-grad              9   \n",
              "32559  <=50K   22            Private  201490      HS-grad              9   \n",
              "32560   >50K   52       Self-emp-inc  287927      HS-grad              9   \n",
              "\n",
              "            marital-status          occupation    relationship    race  \\\n",
              "0            Never-married        Adm-clerical   Not-in-family   White   \n",
              "1       Married-civ-spouse     Exec-managerial         Husband   White   \n",
              "2                 Divorced   Handlers-cleaners   Not-in-family   White   \n",
              "3       Married-civ-spouse   Handlers-cleaners         Husband   Black   \n",
              "4       Married-civ-spouse      Prof-specialty            Wife   Black   \n",
              "...                    ...                 ...             ...     ...   \n",
              "32556   Married-civ-spouse        Tech-support            Wife   White   \n",
              "32557   Married-civ-spouse   Machine-op-inspct         Husband   White   \n",
              "32558              Widowed        Adm-clerical       Unmarried   White   \n",
              "32559        Never-married        Adm-clerical       Own-child   White   \n",
              "32560   Married-civ-spouse     Exec-managerial            Wife   White   \n",
              "\n",
              "        gender  capital-gain  capital-loss  hours-per-week  native-country  \n",
              "0         Male          2174             0              40   United-States  \n",
              "1         Male             0             0              13   United-States  \n",
              "2         Male             0             0              40   United-States  \n",
              "3         Male             0             0              40   United-States  \n",
              "4       Female             0             0              40            Cuba  \n",
              "...        ...           ...           ...             ...             ...  \n",
              "32556   Female             0             0              38   United-States  \n",
              "32557     Male             0             0              40   United-States  \n",
              "32558   Female             0             0              40   United-States  \n",
              "32559     Male             0             0              20   United-States  \n",
              "32560   Female         15024             0              40   United-States  \n",
              "\n",
              "[32561 rows x 15 columns]"
            ]
          },
          "execution_count": 5,
          "metadata": {},
          "output_type": "execute_result"
        }
      ],
      "source": [
        "train_data"
      ]
    },
    {
      "cell_type": "code",
      "execution_count": 6,
      "id": "c1ebfd85",
      "metadata": {},
      "outputs": [
        {
          "name": "stderr",
          "output_type": "stream",
          "text": [
            "C:\\Users\\kashy\\anaconda3\\envs\\rai\\lib\\site-packages\\statsmodels\\compat\\pandas.py:65: FutureWarning: pandas.Int64Index is deprecated and will be removed from pandas in a future version. Use pandas.Index with the appropriate dtype instead.\n",
            "  from pandas import Int64Index as NumericIndex\n"
          ]
        }
      ],
      "source": [
        "from responsibleai import RAIInsights\n",
        "from raiwidgets import ResponsibleAIDashboard\n",
        "\n",
        "rai_insights = RAIInsights(\n",
        "    model=dashboard_pipeline,\n",
        "    train=train_data_sample,\n",
        "    test=test_data_sample,\n",
        "    target_column=target_feature,\n",
        "    task_type=\"classification\",\n",
        "    categorical_features=categorical_features,\n",
        "    dataset_name=\"Adult Census\",\n",
        ")"
      ]
    },
    {
      "cell_type": "markdown",
      "id": "2b473233",
      "metadata": {},
      "source": [
        "#### Option #1 - Use data passed into `RAIInsights` to compute data balance measures"
      ]
    },
    {
      "cell_type": "code",
      "execution_count": 7,
      "id": "35905611",
      "metadata": {},
      "outputs": [
        {
          "name": "stdout",
          "output_type": "stream",
          "text": [
            "ResponsibleAI started at http://localhost:5000\n"
          ]
        },
        {
          "data": {
            "text/plain": [
              "<raiwidgets.responsibleai_dashboard.ResponsibleAIDashboard at 0x209d634ca30>"
            ]
          },
          "execution_count": 7,
          "metadata": {},
          "output_type": "execute_result"
        }
      ],
      "source": [
        "# By default, the train and test data passed in `RAIInsights` is concatenated and used to compute data balance measures\n",
        "# Usually, this data is sampled from the original data\n",
        "# For example, `train_data_sample` is 8000 samples and `test_data_sample` is 500 samples\n",
        "\n",
        "cols_of_interest = ['workclass', 'education', 'marital-status', 'occupation', 'relationship', 'race', 'gender', 'native-country']\n",
        "pos_label = '>50K'\n",
        "\n",
        "rai_insights.data_balance.add(cols_of_interest=cols_of_interest, pos_label=pos_label)\n",
        "\n",
        "rai_insights.compute()\n",
        "\n",
        "ResponsibleAIDashboard(rai_insights)"
      ]
    },
    {
      "cell_type": "markdown",
      "id": "a1ef5d1a",
      "metadata": {},
      "source": [
        "#### Option #2 - Pass in the full dataset"
      ]
    },
    {
      "cell_type": "code",
      "execution_count": 8,
      "id": "de3e6f85",
      "metadata": {},
      "outputs": [
        {
          "name": "stdout",
          "output_type": "stream",
          "text": [
            "ResponsibleAI started at http://localhost:5001\n"
          ]
        },
        {
          "data": {
            "text/plain": [
              "<raiwidgets.responsibleai_dashboard.ResponsibleAIDashboard at 0x209d641a340>"
            ]
          },
          "execution_count": 8,
          "metadata": {},
          "output_type": "execute_result"
        }
      ],
      "source": [
        "cols_of_interest = ['workclass', 'education', 'marital-status', 'occupation', 'relationship', 'race', 'gender', 'native-country']\n",
        "pos_label = '>50K'\n",
        "full_data = pd.concat([train_data, test_data])\n",
        "\n",
        "rai_insights.data_balance.add(cols_of_interest=cols_of_interest, pos_label=pos_label, custom_data=full_data)\n",
        "\n",
        "rai_insights.compute()\n",
        "\n",
        "ResponsibleAIDashboard(rai_insights)"
      ]
    },
    {
      "cell_type": "markdown",
      "id": "8274e62f",
      "metadata": {},
      "source": [
        "#### Option #3 - Pass in a Spark dataframe and use Spark to compute data balance measures"
      ]
    },
    {
      "cell_type": "code",
      "execution_count": null,
      "id": "5ca6aa21",
      "metadata": {},
      "outputs": [],
      "source": [
        "import pyspark.sql.functions as F\n",
        "\n",
        "spark_df = spark.read.parquet(\"wasbs://publicwasb@mmlspark.blob.core.windows.net/AdultCensusIncome.parquet\")\n",
        "display(spark_df)"
      ]
    },
    {
      "cell_type": "code",
      "execution_count": null,
      "id": "ad04051d",
      "metadata": {},
      "outputs": [],
      "source": [
        "cols_of_interest = ['workclass', 'education', 'marital-status', 'occupation', 'relationship', 'race', 'gender', 'native-country']\n",
        "pos_label = '>50K'\n",
        "\n",
        "rai_insights.data_balance.add(cols_of_interest=cols_of_interest, pos_label=pos_label, custom_data=spark_df)\n",
        "\n",
        "rai_insights.compute()\n",
        "\n",
        "ResponsibleAIDashboard(rai_insights)"
      ]
    },
    {
      "cell_type": "markdown",
      "id": "continued-praise",
      "metadata": {},
      "source": [
        "### Create Model and Data Insights"
      ]
    },
    {
      "cell_type": "code",
      "execution_count": null,
      "id": "residential-identification",
      "metadata": {},
      "outputs": [],
      "source": [
        "from raiwidgets import ResponsibleAIDashboard\n",
        "from responsibleai import RAIInsights"
      ]
    },
    {
      "cell_type": "markdown",
      "id": "cheap-juice",
      "metadata": {},
      "source": [
        "To use Responsible AI Toolbox, initialize a RAIInsights object upon which different components can be loaded.\n",
        "\n",
        "RAIInsights accepts the model, the full dataset, the test dataset, the target feature string, the task type string, and a list of strings of categorical feature names as its arguments."
      ]
    },
    {
      "cell_type": "markdown",
      "id": "original-rolling",
      "metadata": {},
      "source": [
        "Add the components of the toolbox that are focused on model assessment."
      ]
    },
    {
      "cell_type": "code",
      "execution_count": null,
      "id": "3bf3ad57",
      "metadata": {},
      "outputs": [],
      "source": [
        "from responsibleai import RAIInsights\n",
        "from raiwidgets import ResponsibleAIDashboard\n",
        "\n",
        "\n",
        "rai_insights = RAIInsights(\n",
        "    model=dashboard_pipeline,\n",
        "    train=train_data_sample,\n",
        "    test=test_data_sample,\n",
        "    target_column=target_feature,\n",
        "    task_type=\"classification\",\n",
        "    categorical_features=categorical_features,\n",
        ")"
      ]
    },
    {
      "cell_type": "code",
      "execution_count": null,
      "id": "governing-antique",
      "metadata": {},
      "outputs": [],
      "source": [
        "# Interpretability\n",
        "rai_insights.explainer.add()\n",
        "# Error Analysis\n",
        "rai_insights.error_analysis.add()\n",
        "# Counterfactuals: accepts total number of counterfactuals to generate, the label that they should have, and a list of \n",
        "                # strings of categorical feature names\n",
        "rai_insights.counterfactual.add(total_CFs=10, desired_class='opposite')"
      ]
    },
    {
      "cell_type": "markdown",
      "id": "unexpected-bicycle",
      "metadata": {},
      "source": [
        "Once all the desired components have been loaded, compute insights on the test set."
      ]
    },
    {
      "cell_type": "code",
      "execution_count": null,
      "id": "average-calibration",
      "metadata": {},
      "outputs": [],
      "source": [
        "rai_insights.compute()"
      ]
    },
    {
      "cell_type": "markdown",
      "id": "elder-fleet",
      "metadata": {},
      "source": [
        "Finally, visualize and explore the model insights. Use the resulting widget or follow the link to view this in a new tab."
      ]
    },
    {
      "cell_type": "code",
      "execution_count": null,
      "id": "thousand-louis",
      "metadata": {},
      "outputs": [
        {
          "name": "stdout",
          "output_type": "stream",
          "text": [
            "ResponsibleAI started at http://localhost:5001\n"
          ]
        },
        {
          "data": {
            "text/plain": [
              "<raiwidgets.responsibleai_dashboard.ResponsibleAIDashboard at 0x1f303bf07c0>"
            ]
          },
          "execution_count": 33,
          "metadata": {},
          "output_type": "execute_result"
        }
      ],
      "source": [
        "ResponsibleAIDashboard(rai_insights)"
      ]
    },
    {
      "cell_type": "markdown",
      "id": "empty-parallel",
      "metadata": {},
      "source": [
        "## Assess Your Model"
      ]
    },
    {
      "cell_type": "markdown",
      "id": "valued-victoria",
      "metadata": {},
      "source": [
        "### Aggregate Analysis"
      ]
    },
    {
      "cell_type": "markdown",
      "id": "rubber-drove",
      "metadata": {},
      "source": [
        "The Error Analysis component is displayed at the top of the dashboard widget. To visualize how error is broken down across cohorts, use the tree map view to understand how it filters through the nodes."
      ]
    },
    {
      "cell_type": "markdown",
      "id": "specified-painting",
      "metadata": {},
      "source": [
        "![Error Analysis tree map with \"Marital Status == 2,\" \"Capital Gain <= 1287.5,\" \"Capital Loss <= 1494.5\" path selected](./img/classification-assessment-1.png)"
      ]
    },
    {
      "cell_type": "markdown",
      "id": "sitting-heritage",
      "metadata": {},
      "source": [
        "Over 40% of the error in this model is concentrated in datapoints of people who are married, have higher education and minimal capital gain. \n",
        "\n",
        "Let's see what else we can discover about this cohort.\n",
        "\n",
        "First, save the cohort by clicking \"Save as a new cohort\" on the right side panel of the Error Analysis component."
      ]
    },
    {
      "cell_type": "markdown",
      "id": "average-chocolate",
      "metadata": {},
      "source": [
        "![Cohort creation sidebar and tree map cohort creation popup](./img/classification-assessment-2.png)"
      ]
    },
    {
      "cell_type": "markdown",
      "id": "mature-reception",
      "metadata": {},
      "source": [
        "To switch to this cohort for analysis, click \"Switch global cohort\" and select the recently saved cohort from the dropdown."
      ]
    },
    {
      "cell_type": "markdown",
      "id": "regulated-shame",
      "metadata": {},
      "source": [
        "![Popup with dropdown to shift cohort from \"All data\" to \"Married, Low Capital Loss/Gain\" accompanied by cohort statistics](./img/classification-assessment-3.png)"
      ]
    },
    {
      "cell_type": "markdown",
      "id": "surrounded-alpha",
      "metadata": {},
      "source": [
        "The Model Overview component allows the comparison of statistics across multiple saved cohorts.\n",
        "\n",
        "The diagram indicates that the model is misclassifying datapoints of married individuals with low capital gains and high education as lower income (false negative)."
      ]
    },
    {
      "cell_type": "markdown",
      "id": "married-wheel",
      "metadata": {},
      "source": [
        "![Bar chart of classification outcomes (true negative, true positive, false negative, false positive) compared across cohorts](./img/classification-assessment-4.png)"
      ]
    },
    {
      "cell_type": "markdown",
      "id": "decreased-commission",
      "metadata": {},
      "source": [
        "Looking at the ground truth statistics of the overall data and the erroneous cohort, we realize there are opposite patterns in terms of high income representation in ground truth. While the overall data is representing more individuals with actual income of <= 50K, the married individuals with low capital gains and high education represent more individuals with actual income of > 50K. Given the small size of the dataset and this reverse pattern, the model makes more mistakes in predicting high income individuals. One action item is to collect a lot more data in both cohorts and retrain the model."
      ]
    },
    {
      "cell_type": "markdown",
      "id": "legitimate-specific",
      "metadata": {},
      "source": [
        "![image-3.png](./img/classification-assessment-5.png)"
      ]
    },
    {
      "attachments": {},
      "cell_type": "markdown",
      "id": "published-dancing",
      "metadata": {},
      "source": [
        "![image.png](./img/classification-assessment-6.png)"
      ]
    },
    {
      "cell_type": "markdown",
      "id": "certain-huntington",
      "metadata": {},
      "source": [
        "The Interpretability component displays feature importances for model predictions at an individual and aggregate level. The plot below indicates that the `marital-status` attribute influence model predictions the most on average."
      ]
    },
    {
      "attachments": {},
      "cell_type": "markdown",
      "id": "danish-stadium",
      "metadata": {},
      "source": [
        "![Top 5 features of the cohort, in descending importance: relationship, age, capital gain, education-num, hours per week](./img/classification-assessment-7.png)"
      ]
    },
    {
      "cell_type": "markdown",
      "id": "devoted-management",
      "metadata": {},
      "source": [
        "The lower half of this tab specifies how marita status affects model prediction. Being a husband or wife (married-civ-spouse) is more likely to pull the prediction away from <=50k, possibly because couples have a higher cumulative income."
      ]
    },
    {
      "attachments": {},
      "cell_type": "markdown",
      "id": "nervous-confusion",
      "metadata": {},
      "source": [
        "![Feature importance stratified by relationship](./img/classification-assessment-8.png)"
      ]
    },
    {
      "cell_type": "markdown",
      "id": "absolute-bench",
      "metadata": {},
      "source": [
        "### Individual Analysis"
      ]
    },
    {
      "cell_type": "markdown",
      "id": "lesbian-market",
      "metadata": {},
      "source": [
        "Let's revisit Data Explorer. In the \"Individual datapoints\" view, we can see the prediction probabilities of each point. Point 510 is one that was just above the threshold to be classified as income of > 50K."
      ]
    },
    {
      "attachments": {},
      "cell_type": "markdown",
      "id": "under-seminar",
      "metadata": {},
      "source": [
        "![Scatter plot of prediction probabilities (rounded to 0.2) on the y-axis and index on the x-axis](./img/classification-assessment-9.png)"
      ]
    },
    {
      "cell_type": "markdown",
      "id": "intermediate-maximum",
      "metadata": {},
      "source": [
        "What factors led the model to make this decision?\n",
        "\n",
        "The \"Individual feature importance\" tab in the Interpretability component's Feature Importances section let you select points for further analysis."
      ]
    },
    {
      "attachments": {},
      "cell_type": "markdown",
      "id": "medium-broadcasting",
      "metadata": {},
      "source": [
        "![Table of datapoints with row 510 selected](./img/classification-assessment-10.png)"
      ]
    },
    {
      "cell_type": "markdown",
      "id": "different-frank",
      "metadata": {},
      "source": [
        "Under this, the feature importance plot shows `capital-gain` and `native-country` as the most significant factors leading to the <= 50K classification. Changing these may cause the threshold to be crossed and the model to predict the opposite class. Please note that depending on the context, the high importance of `native-country` might be considered as a fairness issue."
      ]
    },
    {
      "attachments": {},
      "cell_type": "markdown",
      "id": "super-cambodia",
      "metadata": {},
      "source": [
        "![Feature importance plot for classification of 0 (descending, positive to negative): age, hours per week, capital gain, race, education-num, workclass, sex, country, occupation, marital status, relationship, capital loss](./img/classification-assessment-11.png)"
      ]
    },
    {
      "cell_type": "markdown",
      "id": "ruled-quantum",
      "metadata": {},
      "source": [
        "The What-If Counterfactuals component focuses on how to change features slightly in order to change model predictions. As seen in its top ranked features bar plot, changing this person's marital-status, capital-loss, and education-num have the highest impact on flipping the prediction to > 50K."
      ]
    },
    {
      "attachments": {},
      "cell_type": "markdown",
      "id": "rough-uncle",
      "metadata": {},
      "source": [
        "![Top-ranked features (descending) for datapoint 510 to perturb to flip model prediction: age, hours per week, capital gain, capital loss, marital status, occupation, education-num, workclass, relationship, race, sex, country](./img/classification-assessment-12.png)"
      ]
    }
  ],
  "metadata": {
    "kernelspec": {
      "display_name": "Python 3",
      "language": "python",
      "name": "python3"
    },
    "language_info": {
      "codemirror_mode": {
        "name": "ipython",
        "version": 3
      },
      "file_extension": ".py",
      "mimetype": "text/x-python",
      "name": "python",
      "nbconvert_exporter": "python",
      "pygments_lexer": "ipython3",
      "version": "3.8.5"
    }
  },
<<<<<<< HEAD
  "nbformat": 4,
  "nbformat_minor": 5
=======
  {
   "cell_type": "markdown",
   "id": "adolescent-fusion",
   "metadata": {},
   "source": [
    "This notebook demonstrates the use of the `responsibleai` API to assess a model trained on census data. It walks through the API calls necessary to create a widget with model analysis insights, then guides a visual analysis of the model."
   ]
  },
  {
   "cell_type": "markdown",
   "id": "exempt-cartoon",
   "metadata": {},
   "source": [
    "* [Launch Responsible AI Toolbox](#Launch-Responsible-AI-Toolbox)\n",
    "    * [Train a Model](#Train-a-Model)\n",
    "    * [Create Model and Data Insights](#Create-Model-and-Data-Insights)\n",
    "* [Assess Your Model](#Assess-Your-Model)\n",
    "    * [Aggregate Analysis](#Aggregate-Analysis)\n",
    "    * [Individual Analysis](#Individual-Analysis)"
   ]
  },
  {
   "cell_type": "markdown",
   "id": "continent-dream",
   "metadata": {},
   "source": [
    "## Launch Responsible AI Toolbox"
   ]
  },
  {
   "cell_type": "markdown",
   "id": "welsh-crisis",
   "metadata": {},
   "source": [
    "The following section examines the code necessary to create datasets and a model. It then generates insights using the `responsibleai` API that can be visually analyzed."
   ]
  },
  {
   "cell_type": "markdown",
   "id": "sophisticated-bryan",
   "metadata": {},
   "source": [
    "### Train a Model\n",
    "*The following section can be skipped. It loads a dataset and trains a model for illustrative purposes.*"
   ]
  },
  {
   "cell_type": "code",
   "execution_count": null,
   "id": "indie-message",
   "metadata": {},
   "outputs": [],
   "source": [
    "import sklearn\n",
    "import zipfile\n",
    "\n",
    "from sklearn.pipeline import Pipeline\n",
    "from sklearn.impute import SimpleImputer\n",
    "from sklearn.preprocessing import StandardScaler, OneHotEncoder\n",
    "from sklearn.compose import ColumnTransformer\n",
    "from sklearn.model_selection import train_test_split\n",
    "\n",
    "import pandas as pd\n",
    "from lightgbm import LGBMClassifier"
   ]
  },
  {
   "cell_type": "markdown",
   "id": "clinical-henry",
   "metadata": {},
   "source": [
    "First, load the census dataset and specify the different types of features. Compose a pipeline which contains a preprocessor and estimator."
   ]
  },
  {
   "cell_type": "code",
   "execution_count": null,
   "id": "resistant-consequence",
   "metadata": {},
   "outputs": [],
   "source": [
    "from sklearn.pipeline import Pipeline\n",
    "from sklearn.impute import SimpleImputer\n",
    "from sklearn.preprocessing import StandardScaler, OneHotEncoder\n",
    "from sklearn.compose import ColumnTransformer\n",
    "\n",
    "def split_label(dataset, target_feature):\n",
    "    X = dataset.drop([target_feature], axis=1)\n",
    "    y = dataset[[target_feature]]\n",
    "    return X, y\n",
    "\n",
    "def create_classification_pipeline(X, y, target_feature):\n",
    "    features = X.columns.values.tolist()\n",
    "    classes = y[target_feature].unique().tolist()\n",
    "    pipe_cfg = {\n",
    "        'num_cols': X.dtypes[X.dtypes == 'int64'].index.values.tolist(),\n",
    "        'cat_cols': X.dtypes[X.dtypes == 'object'].index.values.tolist(),\n",
    "    }\n",
    "    num_pipe = Pipeline([\n",
    "        ('num_imputer', SimpleImputer(strategy='median')),\n",
    "        ('num_scaler', StandardScaler())\n",
    "    ])\n",
    "    cat_pipe = Pipeline([\n",
    "        ('cat_imputer', SimpleImputer(strategy='constant', fill_value='?')),\n",
    "        ('cat_encoder', OneHotEncoder(handle_unknown='ignore', sparse=False))\n",
    "    ])\n",
    "    feat_pipe = ColumnTransformer([\n",
    "        ('num_pipe', num_pipe, pipe_cfg['num_cols']),\n",
    "        ('cat_pipe', cat_pipe, pipe_cfg['cat_cols'])\n",
    "    ])\n",
    "\n",
    "    # Append classifier to preprocessing pipeline.\n",
    "    # Now we have a full prediction pipeline.\n",
    "    pipeline = Pipeline(steps=[('preprocessor', feat_pipe),\n",
    "                               ('model', LGBMClassifier())])\n",
    "\n",
    "    return pipeline\n",
    "\n",
    "outdirname = 'responsibleai.12.28.21'\n",
    "try:\n",
    "    from urllib import urlretrieve\n",
    "except ImportError:\n",
    "    from urllib.request import urlretrieve\n",
    "zipfilename = outdirname + '.zip'\n",
    "urlretrieve('https://publictestdatasets.blob.core.windows.net/data/' + zipfilename, zipfilename)\n",
    "with zipfile.ZipFile(zipfilename, 'r') as unzip:\n",
    "    unzip.extractall('.')\n",
    "\n",
    "target_feature = 'income'\n",
    "categorical_features = ['workclass', 'education', 'marital-status',\n",
    "                        'occupation', 'relationship', 'race', 'gender', 'native-country']\n",
    "\n",
    "\n",
    "train_data = pd.read_csv('adult-train.csv')\n",
    "test_data = pd.read_csv('adult-test.csv')\n",
    "\n",
    "X_train_original, y_train = split_label(train_data, target_feature)\n",
    "X_test_original, y_test = split_label(test_data, target_feature)\n",
    "\n",
    "pipeline = create_classification_pipeline(X_train_original, y_train, target_feature)\n",
    "\n",
    "y_train = y_train[target_feature].to_numpy()\n",
    "y_test = y_test[target_feature].to_numpy()\n",
    "\n",
    "\n",
    "# Take 500 samples from the test data\n",
    "test_data_sample = test_data.sample(n=500, random_state=5)"
   ]
  },
  {
   "cell_type": "markdown",
   "id": "potential-proportion",
   "metadata": {},
   "source": [
    "Train the classification pipeline composed in the previous cell on the training data."
   ]
  },
  {
   "cell_type": "code",
   "execution_count": null,
   "id": "biological-album",
   "metadata": {},
   "outputs": [],
   "source": [
    "model = pipeline.fit(X_train_original, y_train)"
   ]
  },
  {
   "cell_type": "markdown",
   "id": "continued-praise",
   "metadata": {},
   "source": [
    "### Create Model and Data Insights"
   ]
  },
  {
   "cell_type": "code",
   "execution_count": null,
   "id": "residential-identification",
   "metadata": {},
   "outputs": [],
   "source": [
    "from raiwidgets import ResponsibleAIDashboard\n",
    "from responsibleai import RAIInsights"
   ]
  },
  {
   "cell_type": "markdown",
   "id": "cheap-juice",
   "metadata": {},
   "source": [
    "To use Responsible AI Toolbox, initialize a RAIInsights object upon which different components can be loaded.\n",
    "\n",
    "RAIInsights accepts the model, the full dataset, the test dataset, the target feature string, the task type string, and a list of strings of categorical feature names as its arguments."
   ]
  },
  {
   "cell_type": "code",
   "execution_count": null,
   "id": "bulgarian-hepatitis",
   "metadata": {},
   "outputs": [],
   "source": [
    "rai_insights = RAIInsights(model, train_data, test_data_sample, target_feature, 'classification',\n",
    "                           categorical_features=categorical_features)"
   ]
  },
  {
   "cell_type": "markdown",
   "id": "original-rolling",
   "metadata": {},
   "source": [
    "Add the components of the toolbox that are focused on model assessment."
   ]
  },
  {
   "cell_type": "code",
   "execution_count": null,
   "id": "governing-antique",
   "metadata": {},
   "outputs": [],
   "source": [
    "# Interpretability\n",
    "rai_insights.explainer.add()\n",
    "# Error Analysis\n",
    "rai_insights.error_analysis.add()\n",
    "# Counterfactuals: accepts total number of counterfactuals to generate, the label that they should have, and a list of \n",
    "                # strings of categorical feature names\n",
    "rai_insights.counterfactual.add(total_CFs=10, desired_class='opposite')"
   ]
  },
  {
   "cell_type": "markdown",
   "id": "unexpected-bicycle",
   "metadata": {},
   "source": [
    "Once all the desired components have been loaded, compute insights on the test set."
   ]
  },
  {
   "cell_type": "code",
   "execution_count": null,
   "id": "average-calibration",
   "metadata": {},
   "outputs": [],
   "source": [
    "rai_insights.compute()"
   ]
  },
  {
   "cell_type": "markdown",
   "id": "elder-fleet",
   "metadata": {},
   "source": [
    "Finally, visualize and explore the model insights. Use the resulting widget or follow the link to view this in a new tab."
   ]
  },
  {
   "cell_type": "code",
   "execution_count": null,
   "id": "thousand-louis",
   "metadata": {},
   "outputs": [],
   "source": [
    "ResponsibleAIDashboard(rai_insights)"
   ]
  },
  {
   "cell_type": "markdown",
   "id": "empty-parallel",
   "metadata": {},
   "source": [
    "## Assess Your Model"
   ]
  },
  {
   "cell_type": "markdown",
   "id": "valued-victoria",
   "metadata": {},
   "source": [
    "### Aggregate Analysis"
   ]
  },
  {
   "cell_type": "markdown",
   "id": "rubber-drove",
   "metadata": {},
   "source": [
    "The Error Analysis component is displayed at the top of the dashboard widget. To visualize how error is broken down across cohorts, use the tree map view to understand how it filters through the nodes."
   ]
  },
  {
   "cell_type": "markdown",
   "id": "specified-painting",
   "metadata": {},
   "source": [
    "![Error Analysis tree map with \"Marital Status == 2,\" \"Capital Gain <= 1287.5,\" \"Capital Loss <= 1494.5\" path selected](./img/classification-assessment-1.png)"
   ]
  },
  {
   "cell_type": "markdown",
   "id": "sitting-heritage",
   "metadata": {},
   "source": [
    "Over 40% of the error in this model is concentrated in datapoints of people who are married, have higher education and minimal capital gain. \n",
    "\n",
    "Let's see what else we can discover about this cohort.\n",
    "\n",
    "First, save the cohort by clicking \"Save as a new cohort\" on the right side panel of the Error Analysis component."
   ]
  },
  {
   "cell_type": "markdown",
   "id": "average-chocolate",
   "metadata": {},
   "source": [
    "![Cohort creation sidebar and tree map cohort creation popup](./img/classification-assessment-2.png)"
   ]
  },
  {
   "cell_type": "markdown",
   "id": "mature-reception",
   "metadata": {},
   "source": [
    "To switch to this cohort for analysis, click \"Switch global cohort\" and select the recently saved cohort from the dropdown."
   ]
  },
  {
   "cell_type": "markdown",
   "id": "regulated-shame",
   "metadata": {},
   "source": [
    "![Popup with dropdown to shift cohort from \"All data\" to \"Married, Low Capital Loss/Gain\" accompanied by cohort statistics](./img/classification-assessment-3.png)"
   ]
  },
  {
   "cell_type": "markdown",
   "id": "surrounded-alpha",
   "metadata": {},
   "source": [
    "The Model Overview component allows the comparison of statistics across multiple saved cohorts.\n",
    "\n",
    "The diagram indicates that the model is misclassifying datapoints of married individuals with low capital gains and high education as lower income (false negative)."
   ]
  },
  {
   "cell_type": "markdown",
   "id": "married-wheel",
   "metadata": {},
   "source": [
    "![Bar chart of classification outcomes (true negative, true positive, false negative, false positive) compared across cohorts](./img/classification-assessment-4.png)"
   ]
  },
  {
   "cell_type": "markdown",
   "id": "decreased-commission",
   "metadata": {},
   "source": [
    "Looking at the ground truth statistics of the overall data and the erroneous cohort, we realize there are opposite patterns in terms of high income representation in ground truth. While the overall data is representing more individuals with actual income of <= 50K, the married individuals with low capital gains and high education represent more individuals with actual income of > 50K. Given the small size of the dataset and this reverse pattern, the model makes more mistakes in predicting high income individuals. One action item is to collect a lot more data in both cohorts and retrain the model."
   ]
  },
  {
   "cell_type": "markdown",
   "id": "legitimate-specific",
   "metadata": {},
   "source": [
    "![image-3.png](./img/classification-assessment-5.png)"
   ]
  },
  {
   "attachments": {},
   "cell_type": "markdown",
   "id": "published-dancing",
   "metadata": {},
   "source": [
    "![image.png](./img/classification-assessment-6.png)"
   ]
  },
  {
   "cell_type": "markdown",
   "id": "certain-huntington",
   "metadata": {},
   "source": [
    "The Interpretability component displays feature importances for model predictions at an individual and aggregate level. The plot below indicates that the `marital-status` attribute influence model predictions the most on average."
   ]
  },
  {
   "attachments": {},
   "cell_type": "markdown",
   "id": "danish-stadium",
   "metadata": {},
   "source": [
    "![Top 5 features of the cohort, in descending importance: relationship, age, capital gain, education-num, hours per week](./img/classification-assessment-7.png)"
   ]
  },
  {
   "cell_type": "markdown",
   "id": "devoted-management",
   "metadata": {},
   "source": [
    "The lower half of this tab specifies how marita status affects model prediction. Being a husband or wife (married-civ-spouse) is more likely to pull the prediction away from <=50k, possibly because couples have a higher cumulative income."
   ]
  },
  {
   "attachments": {},
   "cell_type": "markdown",
   "id": "nervous-confusion",
   "metadata": {},
   "source": [
    "![Feature importance stratified by relationship](./img/classification-assessment-8.png)"
   ]
  },
  {
   "cell_type": "markdown",
   "id": "absolute-bench",
   "metadata": {},
   "source": [
    "### Individual Analysis"
   ]
  },
  {
   "cell_type": "markdown",
   "id": "lesbian-market",
   "metadata": {},
   "source": [
    "Let's revisit Data Explorer. In the \"Individual datapoints\" view, we can see the prediction probabilities of each point. Point 510 is one that was just above the threshold to be classified as income of > 50K."
   ]
  },
  {
   "attachments": {},
   "cell_type": "markdown",
   "id": "under-seminar",
   "metadata": {},
   "source": [
    "![Scatter plot of prediction probabilities (rounded to 0.2) on the y-axis and index on the x-axis](./img/classification-assessment-9.png)"
   ]
  },
  {
   "cell_type": "markdown",
   "id": "intermediate-maximum",
   "metadata": {},
   "source": [
    "What factors led the model to make this decision?\n",
    "\n",
    "The \"Individual feature importance\" tab in the Interpretability component's Feature Importances section let you select points for further analysis."
   ]
  },
  {
   "attachments": {},
   "cell_type": "markdown",
   "id": "medium-broadcasting",
   "metadata": {},
   "source": [
    "![Table of datapoints with row 510 selected](./img/classification-assessment-10.png)"
   ]
  },
  {
   "cell_type": "markdown",
   "id": "different-frank",
   "metadata": {},
   "source": [
    "Under this, the feature importance plot shows `capital-gain` and `native-country` as the most significant factors leading to the <= 50K classification. Changing these may cause the threshold to be crossed and the model to predict the opposite class. Please note that depending on the context, the high importance of `native-country` might be considered as a fairness issue."
   ]
  },
  {
   "attachments": {},
   "cell_type": "markdown",
   "id": "super-cambodia",
   "metadata": {},
   "source": [
    "![Feature importance plot for classification of 0 (descending, positive to negative): age, hours per week, capital gain, race, education-num, workclass, sex, country, occupation, marital status, relationship, capital loss](./img/classification-assessment-11.png)"
   ]
  },
  {
   "cell_type": "markdown",
   "id": "ruled-quantum",
   "metadata": {},
   "source": [
    "The What-If Counterfactuals component focuses on how to change features slightly in order to change model predictions. As seen in its top ranked features bar plot, changing this person's marital-status, capital-loss, and education-num have the highest impact on flipping the prediction to > 50K."
   ]
  },
  {
   "attachments": {},
   "cell_type": "markdown",
   "id": "rough-uncle",
   "metadata": {},
   "source": [
    "![Top-ranked features (descending) for datapoint 510 to perturb to flip model prediction: age, hours per week, capital gain, capital loss, marital status, occupation, education-num, workclass, relationship, race, sex, country](./img/classification-assessment-12.png)"
   ]
  }
 ],
 "metadata": {
  "kernelspec": {
   "display_name": "Python 3",
   "language": "python",
   "name": "python3"
  },
  "language_info": {
   "codemirror_mode": {
    "name": "ipython",
    "version": 3
   },
   "file_extension": ".py",
   "mimetype": "text/x-python",
   "name": "python",
   "nbconvert_exporter": "python",
   "pygments_lexer": "ipython3",
   "version": "3.7.11"
  }
 },
 "nbformat": 4,
 "nbformat_minor": 5
>>>>>>> upstream/main
}
