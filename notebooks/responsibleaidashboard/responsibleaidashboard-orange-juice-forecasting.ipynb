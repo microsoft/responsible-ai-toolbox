{
 "cells": [
  {
   "attachments": {},
   "cell_type": "markdown",
   "metadata": {},
   "source": [
    "# Responsible AI dashboard for Time Series Forecasting\n",
    "_**Orange Juice Sales Forecasting**_\n",
    "\n",
    "Note: Time series forecasting is not yet supported by raiwidgets. This notebook uses an experimental setting to enable it. However, the API and functionality may change at any point in the future without warning.\n",
    "\n",
    "## Contents\n",
    "1. [Introduction](#introduction)\n",
    "1. [Data](#data)\n",
    "1. [Train](#train)\n",
    "1. [Responsible AI Dashboard](#analyze)"
   ]
  },
  {
   "attachments": {},
   "cell_type": "markdown",
   "metadata": {},
   "source": [
    "## Introduction<a id=\"introduction\"></a>\n",
    "In this example, we use sktime to train and assess a time-series forecasting model for multiple time-series.\n",
    "\n",
    "The examples in the follow code samples use the University of Chicago's Dominick's Finer Foods dataset to forecast orange juice sales. Dominick's was a grocery chain in the Chicago metropolitan area."
   ]
  },
  {
   "cell_type": "code",
   "execution_count": 1,
   "metadata": {
    "gather": {
     "logged": 1670990788014
    }
   },
   "outputs": [],
   "source": [
    "import pandas as pd\n",
    "from sktime.forecasting.arima import AutoARIMA\n",
    "from sktime.forecasting.base import ForecastingHorizon\n",
    "from sktime.forecasting.model_selection import temporal_train_test_split"
   ]
  },
  {
   "attachments": {},
   "cell_type": "markdown",
   "metadata": {},
   "source": [
    "## Data<a id=\"data\"></a>\n",
    "You are now ready to load the historical orange juice sales data. We will load the CSV file into a plain pandas DataFrame; the time column in the CSV is called _WeekStarting_, so it will be specially parsed into the datetime type.\n",
    "Each row in the DataFrame holds a quantity of weekly sales for an OJ brand at a single store. The data also includes the sales price, a flag indicating if the OJ brand was advertised in the store that week, and some customer demographic information based on the store location. For historical reasons, the data also include the logarithm of the sales quantity. The Dominick's grocery data is commonly used to illustrate econometric modeling techniques where logarithms of quantities are generally preferred.    \n",
    "\n",
    "The task is now to build a time-series model for the _Quantity_ column. It is important to note that this dataset is comprised of many individual time-series - one for each unique combination of _Store_ and _Brand_. To distinguish the individual time-series, we define the **time_series_id_features** the columns whose values determine the boundaries between time-series: "
   ]
  },
  {
   "cell_type": "code",
   "execution_count": 2,
   "metadata": {
    "gather": {
     "logged": 1670990899201
    }
   },
   "outputs": [
    {
     "data": {
      "text/html": [
       "<div>\n",
       "<style scoped>\n",
       "    .dataframe tbody tr th:only-of-type {\n",
       "        vertical-align: middle;\n",
       "    }\n",
       "\n",
       "    .dataframe tbody tr th {\n",
       "        vertical-align: top;\n",
       "    }\n",
       "\n",
       "    .dataframe thead th {\n",
       "        text-align: right;\n",
       "    }\n",
       "</style>\n",
       "<table border=\"1\" class=\"dataframe\">\n",
       "  <thead>\n",
       "    <tr style=\"text-align: right;\">\n",
       "      <th></th>\n",
       "      <th></th>\n",
       "      <th></th>\n",
       "      <th>Quantity</th>\n",
       "      <th>Advert</th>\n",
       "      <th>Price</th>\n",
       "      <th>Age60</th>\n",
       "      <th>COLLEGE</th>\n",
       "      <th>INCOME</th>\n",
       "      <th>Hincome150</th>\n",
       "      <th>Large HH</th>\n",
       "      <th>Minorities</th>\n",
       "      <th>WorkingWoman</th>\n",
       "      <th>SSTRDIST</th>\n",
       "      <th>SSTRVOL</th>\n",
       "      <th>CPDIST5</th>\n",
       "      <th>CPWVOL5</th>\n",
       "    </tr>\n",
       "    <tr>\n",
       "      <th>Store</th>\n",
       "      <th>Brand</th>\n",
       "      <th>WeekStarting</th>\n",
       "      <th></th>\n",
       "      <th></th>\n",
       "      <th></th>\n",
       "      <th></th>\n",
       "      <th></th>\n",
       "      <th></th>\n",
       "      <th></th>\n",
       "      <th></th>\n",
       "      <th></th>\n",
       "      <th></th>\n",
       "      <th></th>\n",
       "      <th></th>\n",
       "      <th></th>\n",
       "      <th></th>\n",
       "    </tr>\n",
       "  </thead>\n",
       "  <tbody>\n",
       "    <tr>\n",
       "      <th rowspan=\"10\" valign=\"top\">2</th>\n",
       "      <th rowspan=\"10\" valign=\"top\">dominicks</th>\n",
       "      <th>1990-06-14</th>\n",
       "      <td>10560.000000</td>\n",
       "      <td>1.000000</td>\n",
       "      <td>1.590000</td>\n",
       "      <td>0.232865</td>\n",
       "      <td>0.248935</td>\n",
       "      <td>10.553205</td>\n",
       "      <td>0.463887</td>\n",
       "      <td>0.103953</td>\n",
       "      <td>0.11428</td>\n",
       "      <td>0.303585</td>\n",
       "      <td>2.110122</td>\n",
       "      <td>1.142857</td>\n",
       "      <td>1.92728</td>\n",
       "      <td>0.376927</td>\n",
       "    </tr>\n",
       "    <tr>\n",
       "      <th>1990-06-21</th>\n",
       "      <td>10133.333333</td>\n",
       "      <td>0.833333</td>\n",
       "      <td>1.773333</td>\n",
       "      <td>0.232865</td>\n",
       "      <td>0.248935</td>\n",
       "      <td>10.553205</td>\n",
       "      <td>0.463887</td>\n",
       "      <td>0.103953</td>\n",
       "      <td>0.11428</td>\n",
       "      <td>0.303585</td>\n",
       "      <td>2.110122</td>\n",
       "      <td>1.142857</td>\n",
       "      <td>1.92728</td>\n",
       "      <td>0.376927</td>\n",
       "    </tr>\n",
       "    <tr>\n",
       "      <th>1990-06-28</th>\n",
       "      <td>9706.666667</td>\n",
       "      <td>0.666667</td>\n",
       "      <td>1.956667</td>\n",
       "      <td>0.232865</td>\n",
       "      <td>0.248935</td>\n",
       "      <td>10.553205</td>\n",
       "      <td>0.463887</td>\n",
       "      <td>0.103953</td>\n",
       "      <td>0.11428</td>\n",
       "      <td>0.303585</td>\n",
       "      <td>2.110122</td>\n",
       "      <td>1.142857</td>\n",
       "      <td>1.92728</td>\n",
       "      <td>0.376927</td>\n",
       "    </tr>\n",
       "    <tr>\n",
       "      <th>1990-07-05</th>\n",
       "      <td>9280.000000</td>\n",
       "      <td>0.500000</td>\n",
       "      <td>2.140000</td>\n",
       "      <td>0.232865</td>\n",
       "      <td>0.248935</td>\n",
       "      <td>10.553205</td>\n",
       "      <td>0.463887</td>\n",
       "      <td>0.103953</td>\n",
       "      <td>0.11428</td>\n",
       "      <td>0.303585</td>\n",
       "      <td>2.110122</td>\n",
       "      <td>1.142857</td>\n",
       "      <td>1.92728</td>\n",
       "      <td>0.376927</td>\n",
       "    </tr>\n",
       "    <tr>\n",
       "      <th>1990-07-12</th>\n",
       "      <td>8853.333333</td>\n",
       "      <td>0.333333</td>\n",
       "      <td>2.323333</td>\n",
       "      <td>0.232865</td>\n",
       "      <td>0.248935</td>\n",
       "      <td>10.553205</td>\n",
       "      <td>0.463887</td>\n",
       "      <td>0.103953</td>\n",
       "      <td>0.11428</td>\n",
       "      <td>0.303585</td>\n",
       "      <td>2.110122</td>\n",
       "      <td>1.142857</td>\n",
       "      <td>1.92728</td>\n",
       "      <td>0.376927</td>\n",
       "    </tr>\n",
       "    <tr>\n",
       "      <th>1990-07-19</th>\n",
       "      <td>8426.666667</td>\n",
       "      <td>0.166667</td>\n",
       "      <td>2.506667</td>\n",
       "      <td>0.232865</td>\n",
       "      <td>0.248935</td>\n",
       "      <td>10.553205</td>\n",
       "      <td>0.463887</td>\n",
       "      <td>0.103953</td>\n",
       "      <td>0.11428</td>\n",
       "      <td>0.303585</td>\n",
       "      <td>2.110122</td>\n",
       "      <td>1.142857</td>\n",
       "      <td>1.92728</td>\n",
       "      <td>0.376927</td>\n",
       "    </tr>\n",
       "    <tr>\n",
       "      <th>1990-07-26</th>\n",
       "      <td>8000.000000</td>\n",
       "      <td>0.000000</td>\n",
       "      <td>2.690000</td>\n",
       "      <td>0.232865</td>\n",
       "      <td>0.248935</td>\n",
       "      <td>10.553205</td>\n",
       "      <td>0.463887</td>\n",
       "      <td>0.103953</td>\n",
       "      <td>0.11428</td>\n",
       "      <td>0.303585</td>\n",
       "      <td>2.110122</td>\n",
       "      <td>1.142857</td>\n",
       "      <td>1.92728</td>\n",
       "      <td>0.376927</td>\n",
       "    </tr>\n",
       "    <tr>\n",
       "      <th>1990-08-02</th>\n",
       "      <td>6848.000000</td>\n",
       "      <td>1.000000</td>\n",
       "      <td>2.090000</td>\n",
       "      <td>0.232865</td>\n",
       "      <td>0.248935</td>\n",
       "      <td>10.553205</td>\n",
       "      <td>0.463887</td>\n",
       "      <td>0.103953</td>\n",
       "      <td>0.11428</td>\n",
       "      <td>0.303585</td>\n",
       "      <td>2.110122</td>\n",
       "      <td>1.142857</td>\n",
       "      <td>1.92728</td>\n",
       "      <td>0.376927</td>\n",
       "    </tr>\n",
       "    <tr>\n",
       "      <th>1990-08-09</th>\n",
       "      <td>2880.000000</td>\n",
       "      <td>0.000000</td>\n",
       "      <td>2.090000</td>\n",
       "      <td>0.232865</td>\n",
       "      <td>0.248935</td>\n",
       "      <td>10.553205</td>\n",
       "      <td>0.463887</td>\n",
       "      <td>0.103953</td>\n",
       "      <td>0.11428</td>\n",
       "      <td>0.303585</td>\n",
       "      <td>2.110122</td>\n",
       "      <td>1.142857</td>\n",
       "      <td>1.92728</td>\n",
       "      <td>0.376927</td>\n",
       "    </tr>\n",
       "    <tr>\n",
       "      <th>1990-08-16</th>\n",
       "      <td>2240.000000</td>\n",
       "      <td>0.000000</td>\n",
       "      <td>2.090000</td>\n",
       "      <td>0.232865</td>\n",
       "      <td>0.248935</td>\n",
       "      <td>10.553205</td>\n",
       "      <td>0.463887</td>\n",
       "      <td>0.103953</td>\n",
       "      <td>0.11428</td>\n",
       "      <td>0.303585</td>\n",
       "      <td>2.110122</td>\n",
       "      <td>1.142857</td>\n",
       "      <td>1.92728</td>\n",
       "      <td>0.376927</td>\n",
       "    </tr>\n",
       "  </tbody>\n",
       "</table>\n",
       "</div>"
      ],
      "text/plain": [
       "                                  Quantity    Advert     Price     Age60  \\\n",
       "Store Brand     WeekStarting                                               \n",
       "2     dominicks 1990-06-14    10560.000000  1.000000  1.590000  0.232865   \n",
       "                1990-06-21    10133.333333  0.833333  1.773333  0.232865   \n",
       "                1990-06-28     9706.666667  0.666667  1.956667  0.232865   \n",
       "                1990-07-05     9280.000000  0.500000  2.140000  0.232865   \n",
       "                1990-07-12     8853.333333  0.333333  2.323333  0.232865   \n",
       "                1990-07-19     8426.666667  0.166667  2.506667  0.232865   \n",
       "                1990-07-26     8000.000000  0.000000  2.690000  0.232865   \n",
       "                1990-08-02     6848.000000  1.000000  2.090000  0.232865   \n",
       "                1990-08-09     2880.000000  0.000000  2.090000  0.232865   \n",
       "                1990-08-16     2240.000000  0.000000  2.090000  0.232865   \n",
       "\n",
       "                               COLLEGE     INCOME  Hincome150  Large HH  \\\n",
       "Store Brand     WeekStarting                                              \n",
       "2     dominicks 1990-06-14    0.248935  10.553205    0.463887  0.103953   \n",
       "                1990-06-21    0.248935  10.553205    0.463887  0.103953   \n",
       "                1990-06-28    0.248935  10.553205    0.463887  0.103953   \n",
       "                1990-07-05    0.248935  10.553205    0.463887  0.103953   \n",
       "                1990-07-12    0.248935  10.553205    0.463887  0.103953   \n",
       "                1990-07-19    0.248935  10.553205    0.463887  0.103953   \n",
       "                1990-07-26    0.248935  10.553205    0.463887  0.103953   \n",
       "                1990-08-02    0.248935  10.553205    0.463887  0.103953   \n",
       "                1990-08-09    0.248935  10.553205    0.463887  0.103953   \n",
       "                1990-08-16    0.248935  10.553205    0.463887  0.103953   \n",
       "\n",
       "                              Minorities  WorkingWoman  SSTRDIST   SSTRVOL  \\\n",
       "Store Brand     WeekStarting                                                 \n",
       "2     dominicks 1990-06-14       0.11428      0.303585  2.110122  1.142857   \n",
       "                1990-06-21       0.11428      0.303585  2.110122  1.142857   \n",
       "                1990-06-28       0.11428      0.303585  2.110122  1.142857   \n",
       "                1990-07-05       0.11428      0.303585  2.110122  1.142857   \n",
       "                1990-07-12       0.11428      0.303585  2.110122  1.142857   \n",
       "                1990-07-19       0.11428      0.303585  2.110122  1.142857   \n",
       "                1990-07-26       0.11428      0.303585  2.110122  1.142857   \n",
       "                1990-08-02       0.11428      0.303585  2.110122  1.142857   \n",
       "                1990-08-09       0.11428      0.303585  2.110122  1.142857   \n",
       "                1990-08-16       0.11428      0.303585  2.110122  1.142857   \n",
       "\n",
       "                              CPDIST5   CPWVOL5  \n",
       "Store Brand     WeekStarting                     \n",
       "2     dominicks 1990-06-14    1.92728  0.376927  \n",
       "                1990-06-21    1.92728  0.376927  \n",
       "                1990-06-28    1.92728  0.376927  \n",
       "                1990-07-05    1.92728  0.376927  \n",
       "                1990-07-12    1.92728  0.376927  \n",
       "                1990-07-19    1.92728  0.376927  \n",
       "                1990-07-26    1.92728  0.376927  \n",
       "                1990-08-02    1.92728  0.376927  \n",
       "                1990-08-09    1.92728  0.376927  \n",
       "                1990-08-16    1.92728  0.376927  "
      ]
     },
     "execution_count": 2,
     "metadata": {},
     "output_type": "execute_result"
    }
   ],
   "source": [
    "time_column_name = \"WeekStarting\"\n",
    "time_series_id_features = [\"Store\", \"Brand\"]\n",
    "dataset_location = \"https://raw.githubusercontent.com/Azure/azureml-examples/2fe81643865e1f4591e7734bd1a729093cafb826/v1/python-sdk/tutorials/automl-with-azureml/forecasting-orange-juice-sales/dominicks_OJ.csv\"\n",
    "data = pd.read_csv(dataset_location, parse_dates=[time_column_name])\n",
    "\n",
    "# Drop the columns 'logQuantity' as it is a leaky feature.\n",
    "data.drop(\"logQuantity\", axis=1, inplace=True)\n",
    "\n",
    "# Set up multi index with time series ID columns and time column.\n",
    "data.set_index(time_series_id_features + [time_column_name], inplace=True, drop=True)\n",
    "data = data.groupby(time_series_id_features).apply(lambda group: group.loc[group.name].asfreq(\"W-THU\").interpolate())\n",
    "data.sort_index(inplace=True, ascending=[True, True, True])\n",
    "\n",
    "data.head(10)"
   ]
  },
  {
   "cell_type": "code",
   "execution_count": 3,
   "metadata": {
    "gather": {
     "logged": 1670990902872
    }
   },
   "outputs": [
    {
     "name": "stdout",
     "output_type": "stream",
     "text": [
      "Data contains 249 individual time-series.\n"
     ]
    }
   ],
   "source": [
    "nseries = data.groupby(time_series_id_features).ngroups\n",
    "print(\"Data contains {0} individual time-series.\".format(nseries))"
   ]
  },
  {
   "cell_type": "markdown",
   "metadata": {},
   "source": [
    "For demonstration purposes, we extract sales time-series for just a few of the stores:"
   ]
  },
  {
   "cell_type": "code",
   "execution_count": 4,
   "metadata": {
    "gather": {
     "logged": 1670990905562
    }
   },
   "outputs": [
    {
     "name": "stdout",
     "output_type": "stream",
     "text": [
      "Data subset contains 9 individual time-series.\n"
     ]
    }
   ],
   "source": [
    "use_stores = [2, 5, 8]\n",
    "use_brands = ['tropicana', 'dominicks', 'minute.maid']\n",
    "data_subset = data.loc[(use_stores, use_brands, slice(None)), :]\n",
    "nseries = data_subset.groupby(time_series_id_features).ngroups\n",
    "print(f\"Data subset contains {nseries} individual time-series.\")"
   ]
  },
  {
   "cell_type": "markdown",
   "metadata": {},
   "source": [
    "### Data Splitting\n",
    "We now split the data into a training and a testing set for later forecast evaluation. The test set will contain the final 20 weeks of observed sales for each time-series. The splits should be stratified by series, so we use a group-by statement on the time series identifier columns."
   ]
  },
  {
   "cell_type": "code",
   "execution_count": 5,
   "metadata": {
    "gather": {
     "logged": 1670990907583
    }
   },
   "outputs": [
    {
     "name": "stderr",
     "output_type": "stream",
     "text": [
      "C:\\ProgramData\\Anaconda3\\envs\\raitoolboxdev\\lib\\site-packages\\sktime\\datatypes\\_utilities.py:41: PerformanceWarning: indexing past lexsort depth may impact performance.\n",
      "  return X.loc[tuple(list(X.index[0])[:-1])].index\n"
     ]
    }
   ],
   "source": [
    "target_column_name = \"Quantity\"\n",
    "\n",
    "y = pd.DataFrame(data_subset[target_column_name])\n",
    "X = data_subset.drop(columns=[target_column_name])\n",
    "fh_dates = pd.DatetimeIndex(y.index.get_level_values(2).unique().sort_values().to_list()[-20:], freq='W-THU')\n",
    "fh = ForecastingHorizon(fh_dates, is_relative=False)\n",
    "y_train, y_test, X_train, X_test = \\\n",
    "    temporal_train_test_split(\n",
    "        y=y,\n",
    "        X=X,\n",
    "        test_size=20)"
   ]
  },
  {
   "attachments": {},
   "cell_type": "markdown",
   "metadata": {},
   "source": [
    "## Train<a id=\"train\"></a>"
   ]
  },
  {
   "cell_type": "markdown",
   "metadata": {},
   "source": [
    "You can now submit a new training run. Depending on the data and number of iterations this operation may take several minutes.\n",
    "Information from each iteration will be printed to the console.  Validation errors and current status will be shown when setting `show_output=True` and the execution will be synchronous."
   ]
  },
  {
   "cell_type": "code",
   "execution_count": 6,
   "metadata": {},
   "outputs": [
    {
     "data": {
      "text/html": [
       "<div>\n",
       "<style scoped>\n",
       "    .dataframe tbody tr th:only-of-type {\n",
       "        vertical-align: middle;\n",
       "    }\n",
       "\n",
       "    .dataframe tbody tr th {\n",
       "        vertical-align: top;\n",
       "    }\n",
       "\n",
       "    .dataframe thead th {\n",
       "        text-align: right;\n",
       "    }\n",
       "</style>\n",
       "<table border=\"1\" class=\"dataframe\">\n",
       "  <thead>\n",
       "    <tr style=\"text-align: right;\">\n",
       "      <th></th>\n",
       "      <th></th>\n",
       "      <th></th>\n",
       "      <th>Quantity</th>\n",
       "    </tr>\n",
       "    <tr>\n",
       "      <th>Store</th>\n",
       "      <th>Brand</th>\n",
       "      <th>WeekStarting</th>\n",
       "      <th></th>\n",
       "    </tr>\n",
       "  </thead>\n",
       "  <tbody>\n",
       "    <tr>\n",
       "      <th rowspan=\"5\" valign=\"top\">2</th>\n",
       "      <th rowspan=\"5\" valign=\"top\">tropicana</th>\n",
       "      <th>1992-05-21</th>\n",
       "      <td>12625.735934</td>\n",
       "    </tr>\n",
       "    <tr>\n",
       "      <th>1992-05-28</th>\n",
       "      <td>12625.735934</td>\n",
       "    </tr>\n",
       "    <tr>\n",
       "      <th>1992-06-04</th>\n",
       "      <td>11748.331229</td>\n",
       "    </tr>\n",
       "    <tr>\n",
       "      <th>1992-06-11</th>\n",
       "      <td>5606.498295</td>\n",
       "    </tr>\n",
       "    <tr>\n",
       "      <th>1992-06-18</th>\n",
       "      <td>6308.422059</td>\n",
       "    </tr>\n",
       "  </tbody>\n",
       "</table>\n",
       "</div>"
      ],
      "text/plain": [
       "                                  Quantity\n",
       "Store Brand     WeekStarting              \n",
       "2     tropicana 1992-05-21    12625.735934\n",
       "                1992-05-28    12625.735934\n",
       "                1992-06-04    11748.331229\n",
       "                1992-06-11     5606.498295\n",
       "                1992-06-18     6308.422059"
      ]
     },
     "execution_count": 6,
     "metadata": {},
     "output_type": "execute_result"
    }
   ],
   "source": [
    "# When using sktime directly we need to drop the time and time series ID columns.\n",
    "model = AutoARIMA(suppress_warnings=True, error_action=\"ignore\")\n",
    "model.fit(y=y_train, X=X_train, fh=fh)\n",
    "model.predict(fh=fh, X=X_test).head()"
   ]
  },
  {
   "cell_type": "code",
   "execution_count": 7,
   "metadata": {},
   "outputs": [
    {
     "name": "stderr",
     "output_type": "stream",
     "text": [
      "C:\\ProgramData\\Anaconda3\\envs\\raitoolboxdev\\lib\\site-packages\\sktime\\forecasting\\base\\_base.py:557: UserWarning: In 0.22.0, predict_quantiles return default column level 0 name will change for univariate probabilistic quantile forecasts from 'Quantiles' to variable name. The old behaviour can be retained by setting the legacy_interface argument to True, until 0.23.0 when the legacy_interface argument will be removed.\n",
      "  warn(\n",
      "C:\\ProgramData\\Anaconda3\\envs\\raitoolboxdev\\lib\\site-packages\\sktime\\forecasting\\base\\_base.py:557: UserWarning: In 0.22.0, predict_quantiles return default column level 0 name will change for univariate probabilistic quantile forecasts from 'Quantiles' to variable name. The old behaviour can be retained by setting the legacy_interface argument to True, until 0.23.0 when the legacy_interface argument will be removed.\n",
      "  warn(\n",
      "C:\\ProgramData\\Anaconda3\\envs\\raitoolboxdev\\lib\\site-packages\\sktime\\forecasting\\base\\_base.py:557: UserWarning: In 0.22.0, predict_quantiles return default column level 0 name will change for univariate probabilistic quantile forecasts from 'Quantiles' to variable name. The old behaviour can be retained by setting the legacy_interface argument to True, until 0.23.0 when the legacy_interface argument will be removed.\n",
      "  warn(\n",
      "C:\\ProgramData\\Anaconda3\\envs\\raitoolboxdev\\lib\\site-packages\\sktime\\forecasting\\base\\_base.py:557: UserWarning: In 0.22.0, predict_quantiles return default column level 0 name will change for univariate probabilistic quantile forecasts from 'Quantiles' to variable name. The old behaviour can be retained by setting the legacy_interface argument to True, until 0.23.0 when the legacy_interface argument will be removed.\n",
      "  warn(\n",
      "C:\\ProgramData\\Anaconda3\\envs\\raitoolboxdev\\lib\\site-packages\\sktime\\forecasting\\base\\_base.py:557: UserWarning: In 0.22.0, predict_quantiles return default column level 0 name will change for univariate probabilistic quantile forecasts from 'Quantiles' to variable name. The old behaviour can be retained by setting the legacy_interface argument to True, until 0.23.0 when the legacy_interface argument will be removed.\n",
      "  warn(\n",
      "C:\\ProgramData\\Anaconda3\\envs\\raitoolboxdev\\lib\\site-packages\\sktime\\forecasting\\base\\_base.py:557: UserWarning: In 0.22.0, predict_quantiles return default column level 0 name will change for univariate probabilistic quantile forecasts from 'Quantiles' to variable name. The old behaviour can be retained by setting the legacy_interface argument to True, until 0.23.0 when the legacy_interface argument will be removed.\n",
      "  warn(\n",
      "C:\\ProgramData\\Anaconda3\\envs\\raitoolboxdev\\lib\\site-packages\\sktime\\forecasting\\base\\_base.py:557: UserWarning: In 0.22.0, predict_quantiles return default column level 0 name will change for univariate probabilistic quantile forecasts from 'Quantiles' to variable name. The old behaviour can be retained by setting the legacy_interface argument to True, until 0.23.0 when the legacy_interface argument will be removed.\n",
      "  warn(\n",
      "C:\\ProgramData\\Anaconda3\\envs\\raitoolboxdev\\lib\\site-packages\\sktime\\forecasting\\base\\_base.py:557: UserWarning: In 0.22.0, predict_quantiles return default column level 0 name will change for univariate probabilistic quantile forecasts from 'Quantiles' to variable name. The old behaviour can be retained by setting the legacy_interface argument to True, until 0.23.0 when the legacy_interface argument will be removed.\n",
      "  warn(\n",
      "C:\\ProgramData\\Anaconda3\\envs\\raitoolboxdev\\lib\\site-packages\\sktime\\forecasting\\base\\_base.py:557: UserWarning: In 0.22.0, predict_quantiles return default column level 0 name will change for univariate probabilistic quantile forecasts from 'Quantiles' to variable name. The old behaviour can be retained by setting the legacy_interface argument to True, until 0.23.0 when the legacy_interface argument will be removed.\n",
      "  warn(\n"
     ]
    },
    {
     "data": {
      "text/html": [
       "<div>\n",
       "<style scoped>\n",
       "    .dataframe tbody tr th:only-of-type {\n",
       "        vertical-align: middle;\n",
       "    }\n",
       "\n",
       "    .dataframe tbody tr th {\n",
       "        vertical-align: top;\n",
       "    }\n",
       "\n",
       "    .dataframe thead tr th {\n",
       "        text-align: left;\n",
       "    }\n",
       "\n",
       "    .dataframe thead tr:last-of-type th {\n",
       "        text-align: right;\n",
       "    }\n",
       "</style>\n",
       "<table border=\"1\" class=\"dataframe\">\n",
       "  <thead>\n",
       "    <tr>\n",
       "      <th></th>\n",
       "      <th></th>\n",
       "      <th></th>\n",
       "      <th colspan=\"2\" halign=\"left\">Quantiles</th>\n",
       "    </tr>\n",
       "    <tr>\n",
       "      <th></th>\n",
       "      <th></th>\n",
       "      <th></th>\n",
       "      <th>0.025</th>\n",
       "      <th>0.975</th>\n",
       "    </tr>\n",
       "    <tr>\n",
       "      <th>Store</th>\n",
       "      <th>Brand</th>\n",
       "      <th>WeekStarting</th>\n",
       "      <th></th>\n",
       "      <th></th>\n",
       "    </tr>\n",
       "  </thead>\n",
       "  <tbody>\n",
       "    <tr>\n",
       "      <th rowspan=\"5\" valign=\"top\">2</th>\n",
       "      <th rowspan=\"5\" valign=\"top\">tropicana</th>\n",
       "      <th>1992-05-21</th>\n",
       "      <td>-298979.489254</td>\n",
       "      <td>324230.961122</td>\n",
       "    </tr>\n",
       "    <tr>\n",
       "      <th>1992-05-28</th>\n",
       "      <td>-298979.489254</td>\n",
       "      <td>324230.961122</td>\n",
       "    </tr>\n",
       "    <tr>\n",
       "      <th>1992-06-04</th>\n",
       "      <td>-299856.893959</td>\n",
       "      <td>323353.556417</td>\n",
       "    </tr>\n",
       "    <tr>\n",
       "      <th>1992-06-11</th>\n",
       "      <td>-305998.726893</td>\n",
       "      <td>317211.723483</td>\n",
       "    </tr>\n",
       "    <tr>\n",
       "      <th>1992-06-18</th>\n",
       "      <td>-305296.803129</td>\n",
       "      <td>317913.647247</td>\n",
       "    </tr>\n",
       "  </tbody>\n",
       "</table>\n",
       "</div>"
      ],
      "text/plain": [
       "                                  Quantiles               \n",
       "                                      0.025          0.975\n",
       "Store Brand     WeekStarting                              \n",
       "2     tropicana 1992-05-21   -298979.489254  324230.961122\n",
       "                1992-05-28   -298979.489254  324230.961122\n",
       "                1992-06-04   -299856.893959  323353.556417\n",
       "                1992-06-11   -305998.726893  317211.723483\n",
       "                1992-06-18   -305296.803129  317913.647247"
      ]
     },
     "execution_count": 7,
     "metadata": {},
     "output_type": "execute_result"
    }
   ],
   "source": [
    "model.predict_quantiles(fh=fh, X=X_test, alpha=[0.025, 0.975]).head()"
   ]
  },
  {
   "attachments": {},
   "cell_type": "markdown",
   "metadata": {},
   "source": [
    "# Responsible AI Dashboard<a id=\"analyze\"></a>"
   ]
  },
  {
   "cell_type": "code",
   "execution_count": 8,
   "metadata": {
    "collapsed": false,
    "jupyter": {
     "outputs_hidden": false,
     "source_hidden": false
    },
    "nteract": {
     "transient": {
      "deleting": false
     }
    }
   },
   "outputs": [
    {
     "name": "stderr",
     "output_type": "stream",
     "text": [
      "UserConfigValidationException will be deprecated from dice_ml.utils. Please import UserConfigValidationException from raiutils.exceptions.\n",
      "In 0.22.0, predict_quantiles return default column level 0 name will change for univariate probabilistic quantile forecasts from 'Quantiles' to variable name. The old behaviour can be retained by setting the legacy_interface argument to True, until 0.23.0 when the legacy_interface argument will be removed.\n",
      "In 0.22.0, predict_quantiles return default column level 0 name will change for univariate probabilistic quantile forecasts from 'Quantiles' to variable name. The old behaviour can be retained by setting the legacy_interface argument to True, until 0.23.0 when the legacy_interface argument will be removed.\n",
      "In 0.22.0, predict_quantiles return default column level 0 name will change for univariate probabilistic quantile forecasts from 'Quantiles' to variable name. The old behaviour can be retained by setting the legacy_interface argument to True, until 0.23.0 when the legacy_interface argument will be removed.\n",
      "In 0.22.0, predict_quantiles return default column level 0 name will change for univariate probabilistic quantile forecasts from 'Quantiles' to variable name. The old behaviour can be retained by setting the legacy_interface argument to True, until 0.23.0 when the legacy_interface argument will be removed.\n",
      "In 0.22.0, predict_quantiles return default column level 0 name will change for univariate probabilistic quantile forecasts from 'Quantiles' to variable name. The old behaviour can be retained by setting the legacy_interface argument to True, until 0.23.0 when the legacy_interface argument will be removed.\n",
      "In 0.22.0, predict_quantiles return default column level 0 name will change for univariate probabilistic quantile forecasts from 'Quantiles' to variable name. The old behaviour can be retained by setting the legacy_interface argument to True, until 0.23.0 when the legacy_interface argument will be removed.\n",
      "In 0.22.0, predict_quantiles return default column level 0 name will change for univariate probabilistic quantile forecasts from 'Quantiles' to variable name. The old behaviour can be retained by setting the legacy_interface argument to True, until 0.23.0 when the legacy_interface argument will be removed.\n",
      "In 0.22.0, predict_quantiles return default column level 0 name will change for univariate probabilistic quantile forecasts from 'Quantiles' to variable name. The old behaviour can be retained by setting the legacy_interface argument to True, until 0.23.0 when the legacy_interface argument will be removed.\n",
      "In 0.22.0, predict_quantiles return default column level 0 name will change for univariate probabilistic quantile forecasts from 'Quantiles' to variable name. The old behaviour can be retained by setting the legacy_interface argument to True, until 0.23.0 when the legacy_interface argument will be removed.\n",
      "In 0.22.0, predict_quantiles return default column level 0 name will change for univariate probabilistic quantile forecasts from 'Quantiles' to variable name. The old behaviour can be retained by setting the legacy_interface argument to True, until 0.23.0 when the legacy_interface argument will be removed.\n",
      "In 0.22.0, predict_quantiles return default column level 0 name will change for univariate probabilistic quantile forecasts from 'Quantiles' to variable name. The old behaviour can be retained by setting the legacy_interface argument to True, until 0.23.0 when the legacy_interface argument will be removed.\n",
      "In 0.22.0, predict_quantiles return default column level 0 name will change for univariate probabilistic quantile forecasts from 'Quantiles' to variable name. The old behaviour can be retained by setting the legacy_interface argument to True, until 0.23.0 when the legacy_interface argument will be removed.\n",
      "In 0.22.0, predict_quantiles return default column level 0 name will change for univariate probabilistic quantile forecasts from 'Quantiles' to variable name. The old behaviour can be retained by setting the legacy_interface argument to True, until 0.23.0 when the legacy_interface argument will be removed.\n",
      "In 0.22.0, predict_quantiles return default column level 0 name will change for univariate probabilistic quantile forecasts from 'Quantiles' to variable name. The old behaviour can be retained by setting the legacy_interface argument to True, until 0.23.0 when the legacy_interface argument will be removed.\n",
      "In 0.22.0, predict_quantiles return default column level 0 name will change for univariate probabilistic quantile forecasts from 'Quantiles' to variable name. The old behaviour can be retained by setting the legacy_interface argument to True, until 0.23.0 when the legacy_interface argument will be removed.\n",
      "In 0.22.0, predict_quantiles return default column level 0 name will change for univariate probabilistic quantile forecasts from 'Quantiles' to variable name. The old behaviour can be retained by setting the legacy_interface argument to True, until 0.23.0 when the legacy_interface argument will be removed.\n",
      "In 0.22.0, predict_quantiles return default column level 0 name will change for univariate probabilistic quantile forecasts from 'Quantiles' to variable name. The old behaviour can be retained by setting the legacy_interface argument to True, until 0.23.0 when the legacy_interface argument will be removed.\n",
      "In 0.22.0, predict_quantiles return default column level 0 name will change for univariate probabilistic quantile forecasts from 'Quantiles' to variable name. The old behaviour can be retained by setting the legacy_interface argument to True, until 0.23.0 when the legacy_interface argument will be removed.\n",
      "In 0.22.0, predict_quantiles return default column level 0 name will change for univariate probabilistic quantile forecasts from 'Quantiles' to variable name. The old behaviour can be retained by setting the legacy_interface argument to True, until 0.23.0 when the legacy_interface argument will be removed.\n",
      "In 0.22.0, predict_quantiles return default column level 0 name will change for univariate probabilistic quantile forecasts from 'Quantiles' to variable name. The old behaviour can be retained by setting the legacy_interface argument to True, until 0.23.0 when the legacy_interface argument will be removed.\n",
      "In 0.22.0, predict_quantiles return default column level 0 name will change for univariate probabilistic quantile forecasts from 'Quantiles' to variable name. The old behaviour can be retained by setting the legacy_interface argument to True, until 0.23.0 when the legacy_interface argument will be removed.\n",
      "In 0.22.0, predict_quantiles return default column level 0 name will change for univariate probabilistic quantile forecasts from 'Quantiles' to variable name. The old behaviour can be retained by setting the legacy_interface argument to True, until 0.23.0 when the legacy_interface argument will be removed.\n",
      "In 0.22.0, predict_quantiles return default column level 0 name will change for univariate probabilistic quantile forecasts from 'Quantiles' to variable name. The old behaviour can be retained by setting the legacy_interface argument to True, until 0.23.0 when the legacy_interface argument will be removed.\n",
      "In 0.22.0, predict_quantiles return default column level 0 name will change for univariate probabilistic quantile forecasts from 'Quantiles' to variable name. The old behaviour can be retained by setting the legacy_interface argument to True, until 0.23.0 when the legacy_interface argument will be removed.\n",
      "In 0.22.0, predict_quantiles return default column level 0 name will change for univariate probabilistic quantile forecasts from 'Quantiles' to variable name. The old behaviour can be retained by setting the legacy_interface argument to True, until 0.23.0 when the legacy_interface argument will be removed.\n",
      "In 0.22.0, predict_quantiles return default column level 0 name will change for univariate probabilistic quantile forecasts from 'Quantiles' to variable name. The old behaviour can be retained by setting the legacy_interface argument to True, until 0.23.0 when the legacy_interface argument will be removed.\n",
      "In 0.22.0, predict_quantiles return default column level 0 name will change for univariate probabilistic quantile forecasts from 'Quantiles' to variable name. The old behaviour can be retained by setting the legacy_interface argument to True, until 0.23.0 when the legacy_interface argument will be removed.\n"
     ]
    },
    {
     "name": "stdout",
     "output_type": "stream",
     "text": [
      "ResponsibleAI started at http://localhost:5000\n"
     ]
    },
    {
     "data": {
      "text/plain": [
       "<raiwidgets.responsibleai_dashboard.ResponsibleAIDashboard at 0x12d3349e160>"
      ]
     },
     "execution_count": 8,
     "metadata": {},
     "output_type": "execute_result"
    }
   ],
   "source": [
    "from raiwidgets import ResponsibleAIDashboard\n",
    "from responsibleai import RAIInsights, FeatureMetadata\n",
    "\n",
    "# merge X, y, and the time and time series ID features into a single DataFrame\n",
    "train = X_train.join(y_train).join(X_train.index.to_frame(index=True))\n",
    "test = X_test.join(y_test).join(X_test.index.to_frame(index=True))\n",
    "train.reset_index(drop=True, inplace=True)\n",
    "test.reset_index(drop=True, inplace=True)\n",
    "\n",
    "feature_metadata = FeatureMetadata(\n",
    "    time_series_id_features=time_series_id_features, \n",
    "    categorical_features=time_series_id_features,\n",
    "    datetime_features=[time_column_name])\n",
    "insights = RAIInsights(\n",
    "    model=model,\n",
    "    train=train,\n",
    "    test=test,\n",
    "    task_type=\"forecasting\",\n",
    "    target_column=target_column_name,\n",
    "    feature_metadata=feature_metadata,\n",
    "    forecasting_enabled=True)\n",
    "\n",
    "ResponsibleAIDashboard(insights)"
   ]
  },
  {
   "cell_type": "code",
   "execution_count": null,
   "metadata": {},
   "outputs": [],
   "source": []
  }
 ],
 "metadata": {
  "authors": [
   {
    "name": "jialiu"
   }
  ],
  "categories": [
   "SDK v1",
   "how-to-use-azureml",
   "automated-machine-learning"
  ],
  "category": "tutorial",
  "celltoolbar": "Raw Cell Format",
  "compute": [
   "Remote"
  ],
  "datasets": [
   "Orange Juice Sales"
  ],
  "deployment": [
   "Azure Container Instance"
  ],
  "exclude_from_index": false,
  "framework": [
   "Azure ML AutoML"
  ],
  "friendly_name": "Forecasting orange juice sales with deployment",
  "index_order": 1,
  "kernel_info": {
   "name": "python38-azureml"
  },
  "kernelspec": {
   "display_name": "raitoolboxdev",
   "language": "python",
   "name": "raitoolboxdev"
  },
  "language_info": {
   "codemirror_mode": {
    "name": "ipython",
    "version": 3
   },
   "file_extension": ".py",
   "mimetype": "text/x-python",
   "name": "python",
   "nbconvert_exporter": "python",
   "pygments_lexer": "ipython3",
   "version": "3.8.17"
  },
  "microsoft": {
   "host": {
    "AzureML": {
     "notebookHasBeenCompleted": true
    }
   }
  },
  "nteract": {
   "version": "nteract-front-end@1.0.0"
  },
  "tags": [
   "None"
  ],
  "task": "Forecasting",
  "vscode": {
   "interpreter": {
    "hash": "6424d405450b15a93ca3015242fc1e51ac658b1b4015ae2fef5559269d9e1e0c"
   }
  }
 },
 "nbformat": 4,
 "nbformat_minor": 4
}
