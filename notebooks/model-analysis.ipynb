{
 "cells": [
  {
   "cell_type": "code",
   "execution_count": 1,
   "metadata": {},
   "outputs": [
    {
     "output_type": "stream",
     "name": "stderr",
     "text": [
      "pandas.util.testing is deprecated. Use the functions in the public API at pandas.testing instead.\n",
      "cuML is required to use GPU explainers. Check https://rapids.ai/start.html         for more information on how to install it.\n",
      "cuML is required to use GPU explainers. Check https://rapids.ai/start.html         for more information on how to install it.\n"
     ]
    }
   ],
   "source": [
    "import shap\n",
    "import sklearn\n",
    "\n",
    "from sklearn.model_selection import train_test_split\n",
    "from sklearn.linear_model import LogisticRegression\n",
    "\n",
    "from raiwidgets import ModelAnalysisDashboard\n",
    "from responsibleai import ModelAnalysis"
   ]
  },
  {
   "cell_type": "markdown",
   "metadata": {},
   "source": [
    "### Use adult census dataset"
   ]
  },
  {
   "cell_type": "code",
   "execution_count": 2,
   "metadata": {},
   "outputs": [],
   "source": [
    "X, y = shap.datasets.adult()\n",
    "target_feature = 'income'\n",
    "categorical_features = ['Workclass', 'Education-Num', 'Marital Status',\n",
    "                        'Occupation', 'Relationship', 'Race', 'Sex', 'Country']\n",
    "\n",
    "y = [1 if x else 0 for x in y]\n",
    "\n",
    "n_samples = 10000\n",
    "X, y = sklearn.utils.resample(X, y, n_samples=n_samples, random_state=7, stratify=y)\n",
    "X_train, X_test, y_train, y_test = train_test_split(X, y, test_size=0.2, random_state=7, stratify=y)\n",
    "\n",
    "full_data = X.copy()\n",
    "test_data = X_test.copy()\n",
    "full_data[target_feature] = y\n",
    "test_data[target_feature] = y_test"
   ]
  },
  {
   "cell_type": "markdown",
   "metadata": {},
   "source": [
    "### Train a model"
   ]
  },
  {
   "cell_type": "code",
   "execution_count": 3,
   "metadata": {},
   "outputs": [
    {
     "output_type": "execute_result",
     "data": {
      "text/plain": [
       "LogisticRegression(C=1.0, class_weight=None, dual=False, fit_intercept=True,\n",
       "                   intercept_scaling=1, l1_ratio=None, max_iter=100,\n",
       "                   multi_class='auto', n_jobs=None, penalty='l2',\n",
       "                   random_state=None, solver='liblinear', tol=0.0001, verbose=0,\n",
       "                   warm_start=False)"
      ]
     },
     "metadata": {},
     "execution_count": 3
    }
   ],
   "source": [
    "model = LogisticRegression(solver='liblinear')\n",
    "model.fit(X_train, y_train)"
   ]
  },
  {
   "cell_type": "markdown",
   "metadata": {},
   "source": [
    "### Compute Responsible AI model and dataset insights"
   ]
  },
  {
   "cell_type": "code",
   "execution_count": null,
   "metadata": {},
   "outputs": [],
   "source": [
    "model_analysis = ModelAnalysis(model, full_data, test_data, target_feature, 'classification',\n",
    "                               categorical_features=categorical_features)\n",
    "\n",
    "# Queue Responsible AI insights\n",
    "model_analysis.explainer.add()\n",
    "model_analysis.counterfactual.add(10, desired_class='opposite')\n",
    "model_analysis.error_analysis.add()\n",
    "model_analysis.causal.add(treatment_features=['Hours per week', 'Capital Gain'])\n",
    "\n",
    "# Compute insights\n",
    "model_analysis.compute()"
   ]
  },
  {
   "cell_type": "markdown",
   "metadata": {},
   "source": [
    "### Visualize insights in the model analysis dashboard"
   ]
  },
  {
   "cell_type": "code",
   "execution_count": null,
   "metadata": {},
   "outputs": [],
   "source": [
    "ModelAnalysisDashboard(model_analysis)"
   ]
  }
 ],
 "metadata": {
  "kernelspec": {
   "name": "python3",
   "display_name": "Python 3.7.10 64-bit ('dev': conda)"
  },
  "language_info": {
   "codemirror_mode": {
    "name": "ipython",
    "version": 3
   },
   "file_extension": ".py",
   "mimetype": "text/x-python",
   "name": "python",
   "nbconvert_exporter": "python",
   "pygments_lexer": "ipython3",
   "version": "3.7.10"
  },
  "interpreter": {
   "hash": "9d90e7444ca7f19fd0531e94a9a0d0a9c5e9d8b9662d8476ef5a871bb32410f7"
  }
 },
 "nbformat": 4,
 "nbformat_minor": 2
}