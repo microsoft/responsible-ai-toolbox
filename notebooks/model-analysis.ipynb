{
 "cells": [
  {
   "cell_type": "code",
   "execution_count": null,
   "metadata": {},
   "outputs": [],
   "source": [
    "import shap\n",
    "import sklearn\n",
    "\n",
    "from sklearn.model_selection import train_test_split\n",
    "\n",
    "from raiwidgets import ModelAnalysisDashboard\n",
    "from responsibleai import ModelAnalysis"
   ]
  },
  {
   "cell_type": "markdown",
   "metadata": {},
   "source": [
    "### Use adult census dataset"
   ]
  },
  {
   "cell_type": "code",
   "execution_count": null,
   "metadata": {},
   "outputs": [],
   "source": [
    "X, y = shap.datasets.adult()\n",
    "target_feature = 'income'\n",
    "categorical_features = ['Workclass', 'Education-Num', 'Marital Status',\n",
    "                        'Occupation', 'Relationship', 'Race', 'Sex', 'Country']\n",
    "continuous_features = ['Age', 'Capital Gain', 'Capital Loss', 'Hours per week']\n",
    "\n",
    "y = [1 if x else 0 for x in y]\n",
    "\n",
    "n_samples = 10000\n",
    "X, y = sklearn.utils.resample(X, y, n_samples=n_samples, random_state=7, stratify=y)\n",
    "X_train, X_test, y_train, y_test = train_test_split(X, y, test_size=0.2, random_state=7, stratify=y)\n",
    "\n",
    "full_data = X.copy()\n",
    "test_data = X_test.copy()\n",
    "full_data[target_feature] = y\n",
    "test_data[target_feature] = y_test"
   ]
  },
  {
   "cell_type": "markdown",
   "metadata": {},
   "source": [
    "### Train a model"
   ]
  },
  {
   "cell_type": "code",
   "execution_count": null,
   "metadata": {},
   "outputs": [],
   "source": [
    "model = sklearn.neighbors.KNeighborsClassifier()\n",
    "model.fit(X_train, y_train)"
   ]
  },
  {
   "cell_type": "markdown",
   "metadata": {},
   "source": [
    "### Compute Responsible AI model and dataset insights"
   ]
  },
  {
   "cell_type": "code",
   "execution_count": null,
   "metadata": {},
   "outputs": [],
   "source": [
    "model_analysis = ModelAnalysis(model, full_data, test_data, target_feature, 'classification',\n",
    "                               categorical_features=categorical_features)\n",
    "\n",
    "# Queue Responsible AI insights\n",
    "model_analysis.explainer.add()\n",
    "model_analysis.counterfactual.add(continuous_features, 10, desired_class='opposite')\n",
    "model_analysis.error_analysis.add()\n",
    "model_analysis.causal.add()\n",
    "\n",
    "# Compute insights\n",
    "model_analysis.compute()"
   ]
  },
  {
   "cell_type": "markdown",
   "metadata": {},
   "source": [
    "### Visualize insights in the model analysis dashboard"
   ]
  },
  {
   "cell_type": "code",
   "execution_count": null,
   "metadata": {},
   "outputs": [],
   "source": [
    "ModelAnalysisDashboard(model_analysis)"
   ]
  },
  {
   "cell_type": "code",
   "execution_count": null,
   "metadata": {},
   "outputs": [],
   "source": []
  }
 ],
 "metadata": {
  "kernelspec": {
   "display_name": "rai-develop",
   "language": "python",
   "name": "rai-develop"
  },
  "language_info": {
   "codemirror_mode": {
    "name": "ipython",
    "version": 3
   },
   "file_extension": ".py",
   "mimetype": "text/x-python",
   "name": "python",
   "nbconvert_exporter": "python",
   "pygments_lexer": "ipython3",
   "version": "3.7.10"
  }
 },
 "nbformat": 4,
 "nbformat_minor": 2
}
