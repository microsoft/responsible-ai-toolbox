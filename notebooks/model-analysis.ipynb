{
 "cells": [
  {
   "cell_type": "code",
   "execution_count": null,
   "metadata": {},
   "outputs": [],
   "source": [
    "\n",
    "from sklearn.model_selection import train_test_split\n",
    "import pandas as pd\n",
    "import shap\n",
    "import sklearn\n",
    "from responsibleai import ModelAnalysis\n",
    "from raiwidgets import ModelAnalysisDashboard\n",
    "from raiwidgets.interfaces import CausalData, CounterfactualData, Dataset,\\\n",
    "    ErrorAnalysisConfig, ModelExplanationData"
   ]
  },
  {
   "cell_type": "code",
   "execution_count": null,
   "metadata": {},
   "outputs": [],
   "source": [
    "x, y = shap.datasets.adult()\n",
    "y = [1 if r else 0 for r in y]\n",
    "\n",
    "x, y = sklearn.utils.resample(\n",
    "    x, y, n_samples=10000, random_state=7, stratify=y)\n",
    "\n",
    "X_train, X_test, y_train, y_test = train_test_split(\n",
    "    x, y, test_size=0.2, random_state=7, stratify=y)\n",
    "\n",
    "knn = sklearn.neighbors.KNeighborsClassifier()\n",
    "knn.fit(X_train, y_train)"
   ]
  },
  {
   "cell_type": "code",
   "execution_count": null,
   "metadata": {},
   "outputs": [],
   "source": [
    "x[\"income\"]=y\n",
    "X_test[\"income\"]=y_test\n",
    "\n",
    "ma = ModelAnalysis(knn, x, X_test, \"income\", \"classification\",\n",
    "                    categorical_features=['Workclass', 'Education-Num',\n",
    "                                            'Marital Status',\n",
    "                                            'Occupation', 'Relationship',\n",
    "                                            'Race',\n",
    "                                            'Sex', 'Country'])\n",
    "ma.explainer.add()\n",
    "ma.counterfactual.add(['Age',\n",
    "                        'Capital Gain', 'Capital Loss',\n",
    "                        'Hours per week'], 10,\n",
    "                        desired_class=\"opposite\")\n",
    "ma.error_analysis.add()\n",
    "ma.causal.add()\n",
    "ma.compute()"
   ]
  },
  {
   "cell_type": "code",
   "execution_count": null,
   "metadata": {},
   "outputs": [],
   "source": [
    "widget = ModelAnalysisDashboard(ma)"
   ]
  }
 ],
 "metadata": {
  "kernelspec": {
   "name": "python3710jvsc74a57bd09d90e7444ca7f19fd0531e94a9a0d0a9c5e9d8b9662d8476ef5a871bb32410f7",
   "display_name": "Python 3.6.12 64-bit ('dev': conda)"
  },
  "language_info": {
   "codemirror_mode": {
    "name": "ipython",
    "version": 3
   },
   "file_extension": ".py",
   "mimetype": "text/x-python",
   "name": "python",
   "nbconvert_exporter": "python",
   "pygments_lexer": "ipython3",
   "version": "3.7.10"
  }
 },
 "nbformat": 4,
 "nbformat_minor": 2
}