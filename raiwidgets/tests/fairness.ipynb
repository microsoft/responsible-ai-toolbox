{
 "cells": [
  {
   "cell_type": "code",
   "execution_count": null,
   "metadata": {},
   "outputs": [],
   "source": [
    "from raiwidgets import FairnessDashboard\n",
    "from sklearn.model_selection import train_test_split\n",
    "\n",
    "from sklearn import svm\n",
    "from sklearn.preprocessing import LabelEncoder, StandardScaler\n",
    "from sklearn.linear_model import LogisticRegression\n",
    "import pandas as pd"
   ]
  },
  {
   "cell_type": "code",
   "execution_count": null,
   "metadata": {},
   "outputs": [],
   "source": [
    "from sklearn.datasets import fetch_openml\n",
    "data = fetch_openml(data_id=1590, as_frame=True)\n",
    "X_raw = data.data\n",
    "Y = (data.target == '>50K') * 1\n",
    "X_raw"
   ]
  },
  {
   "cell_type": "code",
   "execution_count": null,
   "metadata": {},
   "outputs": [],
   "source": [
    "A = X_raw[['sex','race']]\n",
    "X = X_raw.drop(labels=['sex', 'race'],axis = 1)\n",
    "X = pd.get_dummies(X)\n",
    "\n",
    "sc = StandardScaler()\n",
    "X_scaled = sc.fit_transform(X)\n",
    "X_scaled = pd.DataFrame(X_scaled, columns=X.columns)\n",
    "\n",
    "le = LabelEncoder()\n",
    "Y = le.fit_transform(Y)\n",
    "\n",
    "\n",
    "X_train,\\\n",
    "    X_test,\\\n",
    "    Y_train,\\\n",
    "    Y_test,\\\n",
    "    A_train,\\\n",
    "    A_test = train_test_split(X_scaled,\n",
    "                              Y,\n",
    "                              A,\n",
    "                              test_size=0.2,\n",
    "                              random_state=0,\n",
    "                              stratify=Y)\n",
    "\n",
    "\n",
    "X_train = X_train.reset_index(drop=True)\n",
    "A_train = A_train.reset_index(drop=True)\n",
    "X_test = X_test.reset_index(drop=True)\n",
    "A_test = A_test.reset_index(drop=True)\n"
   ]
  },
  {
   "cell_type": "code",
   "execution_count": null,
   "metadata": {},
   "outputs": [],
   "source": [
    "lr_predictor = LogisticRegression(\n",
    "    solver='liblinear', fit_intercept=True)\n",
    "\n",
    "lr_predictor.fit(X_train, Y_train)\n",
    "\n",
    "#svm_predictor = svm.SVC()\n",
    "\n",
    "#svm_predictor.fit(X_train, Y_train)"
   ]
  },
  {
   "cell_type": "code",
   "execution_count": null,
   "metadata": {},
   "outputs": [],
   "source": [
    "lr_predictor.predict(X_test)"
   ]
  },
  {
   "cell_type": "code",
   "execution_count": null,
   "metadata": {},
   "outputs": [],
   "source": [
    "FairnessDashboard(sensitive_features=A_test,\n",
    "                  y_true=Y_test,\n",
    "                  y_pred=lr_predictor.predict(X_test)\n",
    ")"
   ]
  },
  {
   "cell_type": "code",
   "execution_count": null,
   "metadata": {},
   "outputs": [],
   "source": [
    "svm_predictor = svm.SVC()\n",
    "\n",
    "svm_predictor.fit(X_train, Y_train)"
   ]
  },
  {
   "cell_type": "code",
   "execution_count": null,
   "metadata": {},
   "outputs": [],
   "source": [
    "FairnessDashboard(sensitive_features=A_test,\n",
    "                  y_true=Y_test,\n",
    "                  y_pred={\n",
    "                      \"SVM\":svm_predictor.predict(X_test)\n",
    "                  })"
   ]
  },
  {
   "cell_type": "code",
   "execution_count": null,
   "metadata": {},
   "outputs": [],
   "source": [
    "FairnessDashboard(sensitive_features=A_test,\n",
    "                  y_true=Y_test,\n",
    "                  y_pred={\n",
    "                      \"Log. Reg.\":lr_predictor.predict(X_test),\n",
    "                      \"SVM\":svm_predictor.predict(X_test)\n",
    "                  })"
   ]
  },
  {
   "cell_type": "code",
   "execution_count": 1,
   "metadata": {},
   "outputs": [
    {
     "output_type": "stream",
     "name": "stderr",
     "text": [
      "C:\\Users\\xuke\\Miniconda3\\envs\\dev\\lib\\site-packages\\statsmodels\\tools\\_testing.py:19: FutureWarning: pandas.util.testing is deprecated. Use the functions in the public API at pandas.testing instead.\n",
      "  import pandas.util.testing as tm\n",
      "cuML is required to use GPU explainers. Check https://rapids.ai/start.html         for more information on how to install it.\n",
      "        Age  Workclass  Education-Num  Marital Status  Occupation  \\\n",
      "0      39.0          7           13.0               4           1   \n",
      "1      50.0          6           13.0               2           4   \n",
      "2      38.0          4            9.0               0           6   \n",
      "3      53.0          4            7.0               2           6   \n",
      "4      28.0          4           13.0               2          10   \n",
      "...     ...        ...            ...             ...         ...   \n",
      "32556  27.0          4           12.0               2          13   \n",
      "32557  40.0          4            9.0               2           7   \n",
      "32558  58.0          4            9.0               6           1   \n",
      "32559  22.0          4            9.0               4           1   \n",
      "32560  52.0          5            9.0               2           4   \n",
      "\n",
      "       Relationship  Race  Sex  Capital Gain  Capital Loss  Hours per week  \\\n",
      "0                 0     4    1        2174.0           0.0            40.0   \n",
      "1                 4     4    1           0.0           0.0            13.0   \n",
      "2                 0     4    1           0.0           0.0            40.0   \n",
      "3                 4     2    1           0.0           0.0            40.0   \n",
      "4                 5     2    0           0.0           0.0            40.0   \n",
      "...             ...   ...  ...           ...           ...             ...   \n",
      "32556             5     4    0           0.0           0.0            38.0   \n",
      "32557             4     4    1           0.0           0.0            40.0   \n",
      "32558             1     4    0           0.0           0.0            40.0   \n",
      "32559             3     4    1           0.0           0.0            20.0   \n",
      "32560             5     4    0       15024.0           0.0            40.0   \n",
      "\n",
      "       Country  income  \n",
      "0           39       0  \n",
      "1           39       0  \n",
      "2           39       0  \n",
      "3           39       0  \n",
      "4            5       0  \n",
      "...        ...     ...  \n",
      "32556       39       0  \n",
      "32557       39       1  \n",
      "32558       39       0  \n",
      "32559       39       0  \n",
      "32560       39       1  \n",
      "\n",
      "[32561 rows x 13 columns]\n",
      "       Age  Workclass  Education-Num  Marital Status  Occupation  \\\n",
      "997   48.0          1           13.0               0           4   \n",
      "1596  33.0          2            9.0               2           1   \n",
      "5245  48.0          1           13.0               0           4   \n",
      "3193  33.0          4            8.0               0           7   \n",
      "3935  17.0          4            7.0               4          12   \n",
      "...    ...        ...            ...             ...         ...   \n",
      "1279  42.0          4            9.0               2          12   \n",
      "797   25.0          4            9.0               4           7   \n",
      "3218  36.0          4           13.0               2          12   \n",
      "5885  43.0          5            9.0               2           3   \n",
      "2522  46.0          4           11.0               2           3   \n",
      "\n",
      "      Relationship  Race  Sex  Capital Gain  Capital Loss  Hours per week  \\\n",
      "997              1     4    1           0.0           0.0            58.0   \n",
      "1596             5     4    0           0.0           0.0            60.0   \n",
      "5245             0     4    1           0.0           0.0            45.0   \n",
      "3193             1     2    0           0.0           0.0            40.0   \n",
      "3935             3     4    0           0.0           0.0            35.0   \n",
      "...            ...   ...  ...           ...           ...             ...   \n",
      "1279             4     4    1           0.0           0.0            40.0   \n",
      "797              0     2    1           0.0           0.0            40.0   \n",
      "3218             4     4    1           0.0           0.0            50.0   \n",
      "5885             4     4    1           0.0           0.0            40.0   \n",
      "2522             4     4    1           0.0           0.0            40.0   \n",
      "\n",
      "      Country  income  \n",
      "997        39       1  \n",
      "1596       39       0  \n",
      "5245       39       0  \n",
      "3193       39       0  \n",
      "3935       39       0  \n",
      "...       ...     ...  \n",
      "1279       39       0  \n",
      "797        39       1  \n",
      "3218       39       0  \n",
      "5885       39       1  \n",
      "2522       39       0  \n",
      "\n",
      "[1249 rows x 13 columns]\n",
      "[Parallel(n_jobs=-1)]: Using backend LokyBackend with 8 concurrent workers.\n",
      "[Parallel(n_jobs=-1)]: Done  10 out of  12 | elapsed:   52.5s remaining:   10.4s\n",
      "[Parallel(n_jobs=-1)]: Done  12 out of  12 | elapsed:   57.7s finished\n",
      "divide by zero encountered in true_divide\n",
      "divide by zero encountered in log\n"
     ]
    }
   ],
   "source": [
    "# Copyright (c) Microsoft Corporation\n",
    "# Licensed under the MIT License.\n",
    "\n",
    "from raiwidgets import ModelAnalysisDashboard\n",
    "from responsibleai import ModelAnalysis\n",
    "import sklearn\n",
    "import shap\n",
    "import pandas as pd\n",
    "\n",
    "x, y = shap.datasets.adult()\n",
    "y = [1 if r else 0 for r in y]\n",
    "\n",
    "x_train, x_test, y_train, y_test = sklearn.model_selection.train_test_split(\n",
    "    x, y, test_size=0.2, random_state=7)\n",
    "\n",
    "knn = sklearn.neighbors.KNeighborsClassifier()\n",
    "knn.fit(x_train, y_train)\n",
    "\n",
    "\n",
    "train = pd.merge(x, pd.DataFrame(\n",
    "    y, columns=[\"income\"]), left_index=True, right_index=True)\n",
    "test = pd.merge(x_test, pd.DataFrame(y_test, columns=[\n",
    "                \"income\"]), left_index=True, right_index=True)\n",
    "\n",
    "\n",
    "print(train)\n",
    "print(test)\n",
    "\n",
    "\n",
    "ma = ModelAnalysis(knn, train, test, \"income\", \"classification\",\n",
    "                   categorical_features=[])\n",
    "ma.explainer.add()\n",
    "ma.counterfactual.add(['Age', 'Workclass', 'Education-Num', 'Marital Status',\n",
    "                       'Occupation', 'Relationship', 'Race', 'Sex',\n",
    "                       'Capital Gain', 'Capital Loss',\n",
    "                       'Hours per week', 'Country'], 10,\n",
    "                      desired_class=\"opposite\")\n",
    "ma.error_analysis.add()\n",
    "ma.causal.add()\n",
    "ma.compute()\n"
   ]
  },
  {
   "cell_type": "code",
   "execution_count": 5,
   "metadata": {},
   "outputs": [],
   "source": [
    "causal = ma.causal.get()[0]\n"
   ]
  },
  {
   "cell_type": "code",
   "execution_count": 6,
   "metadata": {},
   "outputs": [
    {
     "output_type": "stream",
     "name": "stdout",
     "text": [
      "{'global_causal_effects':                    point        stderr      zstat        p_value  ci_lower  \\\nfeature                                                                      \nAge             0.002986  1.857130e-04  16.078655   3.601121e-58  0.002622   \nWorkclass      -0.009340  1.726048e-03  -5.411289   6.257275e-08 -0.012723   \nEducation-Num   0.024684  8.755976e-04  28.191510  7.431312e-175  0.022968   \nMarital Status -0.002504  2.050662e-03  -1.220969   2.220978e-01 -0.006523   \nOccupation      0.000432  4.687621e-04   0.922108   3.564724e-01 -0.000487   \nRelationship   -0.003922  2.201144e-03  -1.781790   7.478352e-02 -0.008236   \nRace            0.005440  2.487220e-03   2.187351   2.871690e-02  0.000566   \nSex             0.038619  6.698869e-03   5.764979   8.166805e-09  0.025489   \nCapital Gain    0.000013  7.960074e-07  16.116402   1.956767e-58  0.000011   \nCapital Loss    0.000072  6.084807e-06  11.864600   1.807634e-32  0.000060   \nHours per week  0.002150  1.595970e-04  13.469671   2.359133e-41  0.001837   \nCountry         0.000468  2.328191e-04   2.009459   4.448849e-02  0.000012   \n\n                ci_upper  \nfeature                   \nAge             0.003350  \nWorkclass      -0.005957  \nEducation-Num   0.026401  \nMarital Status  0.001515  \nOccupation      0.001351  \nRelationship    0.000392  \nRace            0.010315  \nSex             0.051748  \nCapital Gain    0.000014  \nCapital Loss    0.000084  \nHours per week  0.002463  \nCountry         0.000924  , 'local_causal_effects':                           point        stderr      zstat       p_value  \\\nsample feature                                                           \n0      Age             0.004859  6.497817e-04   7.477900  7.551947e-14   \n       Workclass      -0.024748  5.070429e-03  -4.880827  1.056417e-06   \n       Education-Num   0.037502  2.988940e-03  12.546758  4.141204e-36   \n       Marital Status  0.000271  4.418869e-03   0.061374  9.510611e-01   \n       Occupation     -0.002406  1.986829e-03  -1.211063  2.258711e-01   \n...                         ...           ...        ...           ...   \n1248   Sex             0.050447  1.291980e-02   3.904645  9.436392e-05   \n       Capital Gain    0.000008  6.709712e-07  12.543378  4.321745e-36   \n       Capital Loss    0.000102  9.321565e-06  10.945451  6.986894e-28   \n       Hours per week  0.003331  3.508940e-04   9.492633  2.252715e-21   \n       Country         0.000791  5.158242e-04   1.533983  1.250338e-01   \n\n                       ci_lower  ci_upper  \nsample feature                             \n0      Age             0.003585  0.006133  \n       Workclass      -0.034686 -0.014810  \n       Education-Num   0.031643  0.043360  \n       Marital Status -0.008390  0.008932  \n       Occupation     -0.006300  0.001488  \n...                         ...       ...  \n1248   Sex             0.025125  0.075770  \n       Capital Gain    0.000007  0.000010  \n       Capital Loss    0.000084  0.000120  \n       Hours per week  0.002643  0.004019  \n       Country        -0.000220  0.001802  \n\n[14988 rows x 6 columns]}\n"
     ]
    }
   ],
   "source": [
    "print (causal)"
   ]
  },
  {
   "cell_type": "code",
   "execution_count": 13,
   "metadata": {},
   "outputs": [
    {
     "output_type": "execute_result",
     "data": {
      "text/plain": [
       "[{'feature': 'Age',\n",
       "  'point': 0.0029860149,\n",
       "  'stderr': 0.000185713,\n",
       "  'zstat': 16.0786550906,\n",
       "  'p_value': 3.601121208e-58,\n",
       "  'ci_lower': 0.0026220242,\n",
       "  'ci_upper': 0.0033500057},\n",
       " {'feature': 'Workclass',\n",
       "  'point': -0.009340143,\n",
       "  'stderr': 0.0017260478,\n",
       "  'zstat': -5.4112888315,\n",
       "  'p_value': 6.26e-08,\n",
       "  'ci_lower': -0.0127231345,\n",
       "  'ci_upper': -0.0059571516},\n",
       " {'feature': 'Education-Num',\n",
       "  'point': 0.0246844181,\n",
       "  'stderr': 0.0008755976,\n",
       "  'zstat': 28.1915101505,\n",
       "  'p_value': 7.431312255e-175,\n",
       "  'ci_lower': 0.0229682784,\n",
       "  'ci_upper': 0.0264005579},\n",
       " {'feature': 'Marital Status',\n",
       "  'point': -0.002503795,\n",
       "  'stderr': 0.0020506625,\n",
       "  'zstat': -1.220968862,\n",
       "  'p_value': 0.2220978096,\n",
       "  'ci_lower': -0.0065230196,\n",
       "  'ci_upper': 0.0015154296},\n",
       " {'feature': 'Occupation',\n",
       "  'point': 0.0004322491,\n",
       "  'stderr': 0.0004687621,\n",
       "  'zstat': 0.9221077107,\n",
       "  'p_value': 0.3564723954,\n",
       "  'ci_lower': -0.0004865076,\n",
       "  'ci_upper': 0.0013510059},\n",
       " {'feature': 'Relationship',\n",
       "  'point': -0.0039219761,\n",
       "  'stderr': 0.0022011441,\n",
       "  'zstat': -1.7817897767,\n",
       "  'p_value': 0.07478352,\n",
       "  'ci_lower': -0.0082361393,\n",
       "  'ci_upper': 0.0003921871},\n",
       " {'feature': 'Race',\n",
       "  'point': 0.0054404233,\n",
       "  'stderr': 0.0024872199,\n",
       "  'zstat': 2.1873511422,\n",
       "  'p_value': 0.0287168999,\n",
       "  'ci_lower': 0.0005655619,\n",
       "  'ci_upper': 0.0103152848},\n",
       " {'feature': 'Sex',\n",
       "  'point': 0.0386188357,\n",
       "  'stderr': 0.0066988685,\n",
       "  'zstat': 5.7649789096,\n",
       "  'p_value': 8.2e-09,\n",
       "  'ci_lower': 0.0254892947,\n",
       "  'ci_upper': 0.0517483768},\n",
       " {'feature': 'Capital Gain',\n",
       "  'point': 1.28288e-05,\n",
       "  'stderr': 7.96e-07,\n",
       "  'zstat': 16.1164015398,\n",
       "  'p_value': 1.95676697e-58,\n",
       "  'ci_lower': 1.12686e-05,\n",
       "  'ci_upper': 1.43889e-05},\n",
       " {'feature': 'Capital Loss',\n",
       "  'point': 7.21938e-05,\n",
       "  'stderr': 6.0848e-06,\n",
       "  'zstat': 11.864600445,\n",
       "  'p_value': 1.807633716e-32,\n",
       "  'ci_lower': 6.02678e-05,\n",
       "  'ci_upper': 8.41198e-05},\n",
       " {'feature': 'Hours per week',\n",
       "  'point': 0.0021497186,\n",
       "  'stderr': 0.000159597,\n",
       "  'zstat': 13.4696714781,\n",
       "  'p_value': 2.359133167e-41,\n",
       "  'ci_lower': 0.0018369143,\n",
       "  'ci_upper': 0.0024625229},\n",
       " {'feature': 'Country',\n",
       "  'point': 0.0004678405,\n",
       "  'stderr': 0.0002328191,\n",
       "  'zstat': 2.009458883,\n",
       "  'p_value': 0.044488491,\n",
       "  'ci_lower': 1.15234e-05,\n",
       "  'ci_upper': 0.0009241576}]"
      ]
     },
     "metadata": {},
     "execution_count": 13
    }
   ],
   "source": [
    "import json\n",
    "json.loads(causal[\"global_causal_effects\"].reset_index().to_json(orient = \"records\"))"
   ]
  },
  {
   "cell_type": "code",
   "execution_count": null,
   "metadata": {},
   "outputs": [],
   "source": [
    "json_data = causal.global_causal_effect.reset_index().to_json(orient = \"records\")\n",
    "import json\n",
    "\n",
    "json_object = json.loads(json_data)\n",
    "\n",
    "with open('d:\\causal.json', 'w') as f:\n",
    "    json.dump(json_object, f, indent=2)\n"
   ]
  },
  {
   "cell_type": "code",
   "execution_count": null,
   "metadata": {},
   "outputs": [],
   "source": [
    " local = causal.local_causal_effect(x_test.head(5))"
   ]
  },
  {
   "cell_type": "code",
   "execution_count": null,
   "metadata": {},
   "outputs": [],
   "source": [
    "json_data = local.reset_index().to_json(orient = \"records\")\n",
    "import json\n",
    "\n",
    "json_object = json.loads(json_data)\n",
    "\n",
    "with open('d:\\causal.json', 'w') as f:\n",
    "    json.dump(json_object, f, indent=2)\n"
   ]
  },
  {
   "cell_type": "code",
   "execution_count": null,
   "metadata": {},
   "outputs": [],
   "source": [
    "import json"
   ]
  },
  {
   "cell_type": "code",
   "execution_count": null,
   "metadata": {},
   "outputs": [],
   "source": [
    "grouped = local.groupby(\"sample\").apply(lambda x: x.reset_index().to_json(orient='records'))"
   ]
  },
  {
   "cell_type": "code",
   "execution_count": null,
   "metadata": {},
   "outputs": [],
   "source": [
    "grouped.sort_by"
   ]
  },
  {
   "cell_type": "code",
   "execution_count": null,
   "metadata": {},
   "outputs": [],
   "source": [
    "iris = sklearn.datasets.load_iris()"
   ]
  },
  {
   "cell_type": "code",
   "execution_count": null,
   "metadata": {},
   "outputs": [],
   "source": [
    "x = pd.DataFrame(\n",
    "    iris.data, columns=iris.feature_names)\n",
    "y = pd.DataFrame(\n",
    "    iris.target, columns=[\"class\"])"
   ]
  },
  {
   "cell_type": "code",
   "execution_count": null,
   "metadata": {},
   "outputs": [],
   "source": [
    "\n",
    "from raiwidgets import ModelAnalysisDashboard\n",
    "from responsibleai import ModelAnalysis\n",
    "import sklearn\n",
    "import shap\n",
    "import pandas as pd\n",
    "\n",
    "x = pd.DataFrame(\n",
    "    iris.data, columns=iris.feature_names)\n",
    "y = pd.DataFrame(\n",
    "    iris.target, columns=[\"class\"])\n",
    "\n",
    "x_train, x_test, y_train, y_test = sklearn.model_selection.train_test_split(\n",
    "    x, y, test_size=0.2, random_state=7)\n",
    "\n",
    "knn = sklearn.neighbors.KNeighborsClassifier()\n",
    "knn.fit(x_train, y_train)\n",
    "\n",
    "\n",
    "train = pd.merge(x, y, left_index=True, right_index=True)\n",
    "test = pd.merge(x_test, y_test, left_index=True, right_index=True)\n"
   ]
  },
  {
   "cell_type": "code",
   "execution_count": null,
   "metadata": {},
   "outputs": [],
   "source": [
    "\n",
    "\n",
    "\n",
    "ma = ModelAnalysis(knn, train, test, \"class\", \"classification\",\n",
    "                   categorical_features=[])\n",
    "ma.explainer.add()\n",
    "ma.counterfactual.add(iris.feature_names, 10,\n",
    "                      desired_class=1)\n",
    "ma.error_analysis.add()\n",
    "ma.causal.add()\n",
    "ma.compute()"
   ]
  },
  {
   "cell_type": "code",
   "execution_count": null,
   "metadata": {},
   "outputs": [],
   "source": []
  }
 ],
 "metadata": {
  "kernelspec": {
   "name": "python3612jvsc74a57bd09d90e7444ca7f19fd0531e94a9a0d0a9c5e9d8b9662d8476ef5a871bb32410f7",
   "display_name": "Python 3.6.12 64-bit ('dev': conda)"
  },
  "language_info": {
   "codemirror_mode": {
    "name": "ipython",
    "version": 3
   },
   "file_extension": ".py",
   "mimetype": "text/x-python",
   "name": "python",
   "nbconvert_exporter": "python",
   "pygments_lexer": "ipython3",
   "version": "3.6.12"
  }
 },
 "nbformat": 4,
 "nbformat_minor": 4
}