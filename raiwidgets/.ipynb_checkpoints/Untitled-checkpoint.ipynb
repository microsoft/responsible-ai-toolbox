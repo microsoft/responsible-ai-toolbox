{
 "cells": [
  {
   "cell_type": "code",
   "execution_count": null,
   "metadata": {
    "scrolled": false
   },
   "outputs": [],
   "source": [
    "from raiwidgets import FairnessDashboard\n",
    "import numpy as np\n",
    "\n",
    "\n",
    "X = np.array([[0], [1], [2], [3], [4]])\n",
    "A = [0, 0, 1, 1, 1]\n",
    "y = [0, 1, 0, 0, 1]\n",
    "y_pred = [0, 0, 1, 0, 1]\n",
    "\n",
    "FairnessDashboard(sensitive_features=A, y_true=y, y_pred=[y_pred, y_pred, y_pred])"
   ]
  },
  {
   "cell_type": "code",
   "execution_count": null,
   "metadata": {},
   "outputs": [],
   "source": [
    "from interpret.ext.glassbox import LinearExplainableModel\n",
    "from interpret.ext.blackbox import MimicExplainer\n",
    "\n",
    "\n",
    "from sklearn import svm\n",
    "\n",
    "model = svm.SVC()\n",
    "model.fit(X, y)\n",
    "\n",
    "explainer = MimicExplainer(model, \n",
    "                           X,\n",
    "                           LinearExplainableModel, \n",
    "                           augment_data=True,\n",
    "                           max_num_of_augmentations=10)\n",
    "\n",
    "from interpret_community.widget import ExplanationDashboard\n",
    "\n",
    "global_explanation = explainer.explain_global(X)\n",
    "ExplanationDashboard(global_explanation, model, datasetX=X, trueY=y)"
   ]
  },
  {
   "cell_type": "code",
   "execution_count": null,
   "metadata": {},
   "outputs": [],
   "source": []
  }
 ],
 "metadata": {
  "kernelspec": {
   "display_name": "Python 3",
   "language": "python",
   "name": "python3"
  },
  "language_info": {
   "codemirror_mode": {
    "name": "ipython",
    "version": 3
   },
   "file_extension": ".py",
   "mimetype": "text/x-python",
   "name": "python",
   "nbconvert_exporter": "python",
   "pygments_lexer": "ipython3",
   "version": "3.7.6"
  }
 },
 "nbformat": 4,
 "nbformat_minor": 4
}
