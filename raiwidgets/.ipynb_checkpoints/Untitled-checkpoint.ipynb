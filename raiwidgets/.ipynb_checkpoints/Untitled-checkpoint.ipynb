{
 "cells": [
  {
   "cell_type": "code",
   "execution_count": 2,
   "metadata": {},
   "outputs": [
    {
     "data": {
      "text/html": [
       "<!DOCTYPE html>\n",
       "<title>Fairness Dashboard</title>\n",
       "\n",
       "<a href=\"http://localhost:5000/1\" target=\"_blank\">Open in new tab</a>\n",
       "\n",
       "<div style=\"height: 1000px;\" id=\"app_fairness\"></div>\n",
       "<script type=\"text/javascript\">\n",
       "  {\n",
       "    {\n",
       "      main_js;\n",
       "    }\n",
       "  }\n",
       "</script>\n",
       "<script defer type=\"text/javascript\">\n",
       "  (function universalLoad(root, callback) {\n",
       "        if(typeof exports === 'object' && typeof module === 'object') {\n",
       "          // CommonJS2\n",
       "          var fairnessInline = require('inline-fairness-dashboard');\n",
       "          callback(fairnessInline);\n",
       "        } else if(typeof define === 'function' && define.amd) {\n",
       "          // AMD\n",
       "          require(['inline-fairness-dashboard'], function(fairnessInline) {\n",
       "            callback(fairnessInline);\n",
       "          });\n",
       "        } else if(typeof exports === 'object') {\n",
       "          // CommonJS\n",
       "          var fairnessInline = require('inline-fairness-dashboard');\n",
       "          callback(fairnessInline);\n",
       "        } else {\n",
       "          // Browser\n",
       "          callback(root['inline-fairness-dashboard']);\n",
       "        }\n",
       "      })(this, function(fairnessInline) {\n",
       "          var data = {'true_y': [0, 1, 0, 0, 1], 'predicted_ys': [[0, 0, 1, 0, 1], [0, 0, 1, 0, 1], [0, 0, 1, 0, 1]], 'dataset': [[0], [0], [1], [1], [1]], 'classification_methods': ['accuracy_score', 'balanced_accuracy_score', 'precision_score', 'recall_score'], 'regression_methods': ['root_mean_squared_error', 'mean_squared_error', 'mean_absolute_error', 'r2_score'], 'probability_methods': ['auc', 'root_mean_squared_error', 'balanced_root_mean_squared_error', 'mean_squared_error', 'mean_absolute_error'], 'metricsUrl': 'http://localhost:5000/1/metrics'};\n",
       "          //data.predictionUrl = data.predictionUrl ? data.predictionUrl : undefined;\n",
       "          fairnessInline.RenderDashboard(\"app_fairness\", data);\n",
       "      });\n",
       "</script>"
      ],
      "text/plain": [
       "<IPython.core.display.HTML object>"
      ]
     },
     "metadata": {},
     "output_type": "display_data"
    },
    {
     "data": {
      "text/plain": [
       "<raiwidgets.fairness_dashboard.FairnessDashboard at 0x2c57a29d188>"
      ]
     },
     "execution_count": 2,
     "metadata": {},
     "output_type": "execute_result"
    }
   ],
   "source": [
    "from raiwidgets import FairnessDashboard\n",
    "import numpy as np\n",
    "\n",
    "\n",
    "X = np.array([[0], [1], [2], [3], [4]])\n",
    "A = [0, 0, 1, 1, 1]\n",
    "y = [0, 1, 0, 0, 1]\n",
    "y_pred = [0, 0, 1, 0, 1]\n",
    "\n",
    "FairnessDashboard(sensitive_features=A, y_true=y, y_pred=[y_pred, y_pred, y_pred])"
   ]
  },
  {
   "cell_type": "code",
   "execution_count": null,
   "metadata": {},
   "outputs": [],
   "source": [
    "from interpret.ext.glassbox import LinearExplainableModel\n",
    "from interpret.ext.blackbox import MimicExplainer\n",
    "\n",
    "\n",
    "from sklearn import svm\n",
    "\n",
    "model = svm.SVC()\n",
    "model.fit(X, y)\n",
    "\n",
    "explainer = MimicExplainer(model, \n",
    "                           X,\n",
    "                           LinearExplainableModel, \n",
    "                           augment_data=True,\n",
    "                           max_num_of_augmentations=10)\n",
    "\n",
    "from interpret_community.widget import ExplanationDashboard\n",
    "\n",
    "global_explanation = explainer.explain_global(X)\n",
    "ExplanationDashboard(global_explanation, model, datasetX=X, trueY=y)"
   ]
  },
  {
   "cell_type": "code",
   "execution_count": null,
   "metadata": {},
   "outputs": [],
   "source": []
  }
 ],
 "metadata": {
  "kernelspec": {
   "display_name": "Python 3",
   "language": "python",
   "name": "python3"
  },
  "language_info": {
   "codemirror_mode": {
    "name": "ipython",
    "version": 3
   },
   "file_extension": ".py",
   "mimetype": "text/x-python",
   "name": "python",
   "nbconvert_exporter": "python",
   "pygments_lexer": "ipython3",
   "version": "3.7.6"
  }
 },
 "nbformat": 4,
 "nbformat_minor": 4
}
